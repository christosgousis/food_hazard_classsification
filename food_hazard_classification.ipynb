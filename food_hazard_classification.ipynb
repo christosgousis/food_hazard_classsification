{
 "cells": [
  {
   "cell_type": "markdown",
   "metadata": {},
   "source": [
    "**Installing Required Libraries and Import them**"
   ]
  },
  {
   "cell_type": "code",
   "execution_count": 1,
   "metadata": {},
   "outputs": [],
   "source": [
    "%%capture\n",
    "!pip install torch transformers datasets pandas scikit-learn sentencepiece"
   ]
  },
  {
   "cell_type": "code",
   "execution_count": 2,
   "metadata": {},
   "outputs": [],
   "source": [
    "import torch\n",
    "import numpy as np\n",
    "import pandas as pd\n",
    "from transformers import RobertaTokenizer, RobertaForSequenceClassification, DataCollatorWithPadding, AdamW, get_scheduler\n",
    "from sklearn.preprocessing import LabelEncoder\n",
    "from torch.utils.data import DataLoader, WeightedRandomSampler\n",
    "from datasets import Dataset\n",
    "from tqdm.auto import tqdm\n",
    "from sklearn.metrics import classification_report, f1_score\n",
    "from torch.cuda.amp import autocast, GradScaler"
   ]
  },
  {
   "cell_type": "markdown",
   "metadata": {},
   "source": [
    "**Setting Global Random Seeds for Reproducibility**\n",
    "\n",
    "To ensure reproducibility in our experiments, we set a fixed random seed for both PyTorch and NumPy. This helps in obtaining consistent results across multiple runs of the notebook."
   ]
  },
  {
   "cell_type": "code",
   "execution_count": 3,
   "metadata": {},
   "outputs": [],
   "source": [
    "SEED = 2025\n",
    "\n",
    "# Set global seeds\n",
    "torch.manual_seed(SEED)\n",
    "np.random.seed(SEED)"
   ]
  },
  {
   "cell_type": "markdown",
   "metadata": {},
   "source": [
    "## Data Loading  \n",
    "\n",
    "We load all the available data (**train, validation, and test**).  \n",
    "- The `train` and `validation` datasets are combined to form the **final training set** for model training.  \n",
    "- The `test` dataset is kept separate and will be used solely for **model evaluation**.  \n"
   ]
  },
  {
   "cell_type": "code",
   "execution_count": 4,
   "metadata": {},
   "outputs": [],
   "source": [
    "# Train data\n",
    "train = pd.read_csv('incidents_train.csv', index_col=0)\n",
    "valid = pd.read_csv('incidents_valid.csv', index_col=0)\n",
    "# Test data\n",
    "dev_df = pd.read_csv('incidents_test.csv', index_col=0)\n",
    "\n",
    "# Concatenate both dataframes and remove duplicates\n",
    "train_df = pd.concat([train, valid]).drop_duplicates().reset_index(drop=True)\n",
    "\n",
    "data = pd.concat([train_df, dev_df]).drop_duplicates().reset_index(drop=True)"
   ]
  },
  {
   "cell_type": "markdown",
   "metadata": {},
   "source": [
    "# Train and Evaluate Models"
   ]
  },
  {
   "cell_type": "markdown",
   "metadata": {},
   "source": [
    "**Initializing Tokenizer**\n",
    "\n",
    "For each label we use the **`RoBERTa-large`** model from Hugging Face.\n",
    "As input we take column **text**.\n",
    "\n",
    "The `tokenize_function`:\n",
    "- Applies **tokenization with padding and truncation**, ensuring all sequences are of consistent length.  \n",
    "- The **maximum sequence length is set to 256 tokens** to prevent excessively long inputs while retaining important information.  \n"
   ]
  },
  {
   "cell_type": "code",
   "execution_count": 5,
   "metadata": {},
   "outputs": [],
   "source": [
    "model_name = 'roberta-large'\n",
    "tokenizer = RobertaTokenizer.from_pretrained(model_name)\n",
    "\n",
    "def tokenize_function(examples):\n",
    "    return tokenizer(examples['text'], padding=True, truncation=True, max_length=256)"
   ]
  },
  {
   "cell_type": "markdown",
   "metadata": {},
   "source": [
    "### Data Preparation with Optional Oversampling  \n",
    "\n",
    "**`prepare_data`** processes the dataset for training and evaluation, handling **label encoding, tokenization, and optional oversampling**.\n",
    "\n",
    "#### **Key Steps:**\n",
    "1. **Label Encoding**: Converts categorical labels to numerical values using `LabelEncoder`.  \n",
    "2. **Dataset Conversion**: Transforms DataFrames into **Hugging Face `Dataset` objects**.  \n",
    "3. **Tokenization**: Applies **`tokenize_function`** with padding and truncation.  \n",
    "4. **Data Formatting**: Converts datasets into **PyTorch tensors** (`input_ids`, `attention_mask`, `label`).  \n",
    "5. **Oversampling (Optional)**:  \n",
    "   - Adjusts **class weights** to balance data.  \n",
    "   - Uses **WeightedRandomSampler** with smoothing factor **`alpha`** (lower = stronger oversampling).  \n",
    "6. **DataLoader Creation**: Returns **PyTorch `DataLoader`** objects with or without oversampling.  \n",
    "\n",
    "#### **Outputs:**\n",
    "- `train_loader`: Training DataLoader.  \n",
    "- `dev_loader`: Validation DataLoader.  \n",
    "- `label_encoder`: Converts predictions back to original labels.  \n"
   ]
  },
  {
   "cell_type": "code",
   "execution_count": 6,
   "metadata": {},
   "outputs": [],
   "source": [
    "def prepare_data(label, oversampling=True, alpha=0.5):\n",
    "    # encode labels:\n",
    "    label_encoder = LabelEncoder()\n",
    "    label_encoder.fit(data[label])\n",
    "\n",
    "    train_df['label'] = label_encoder.transform(train_df[label])\n",
    "    dev_df['label'] = label_encoder.transform(dev_df[label])\n",
    "\n",
    "    # Convert DataFrame to Hugging Face Dataset\n",
    "    train_dataset = Dataset.from_pandas(train_df)\n",
    "    dev_dataset = Dataset.from_pandas(dev_df)\n",
    "    \n",
    "    # Apply the tokenizer to the dataset\n",
    "    train_dataset = train_dataset.map(tokenize_function, batched=True)\n",
    "    dev_dataset = dev_dataset.map(tokenize_function, batched=True)\n",
    "    \n",
    "    # Create DataCollator to handle padding\n",
    "    data_collator = DataCollatorWithPadding(tokenizer=tokenizer, padding=True)\n",
    "\n",
    "    # Convert dataset to PyTorch format\n",
    "    train_dataset.set_format(type='torch', columns=['input_ids', 'attention_mask', 'label'])\n",
    "    dev_dataset.set_format(type='torch', columns=['input_ids', 'attention_mask', 'label'])\n",
    "\n",
    "    # Apply oversampling to handle class imbalance if enabled\n",
    "    if oversampling == True:\n",
    "        # Compute class weights for oversampling\n",
    "        labels = [example['label'] for example in train_dataset]  # Extract labels\n",
    "        label_counts = np.bincount(labels)  # Count occurrences per class\n",
    "    \n",
    "        # Controlled smoothing function (Adjust alpha for fine-tuning)\n",
    "        sample_weights = 1.0 / ((label_counts[train_df['label'].values] + 1e-6) ** alpha)\n",
    "        \n",
    "        # Normalize weights (prevents extreme differences)\n",
    "        sample_weights = sample_weights / sample_weights.sum()\n",
    "        \n",
    "        # Define sampler with a smaller oversampling effect\n",
    "        sampler = WeightedRandomSampler(sample_weights.tolist(), num_samples=int(len(train_dataset) * 1.2), replacement=True)\n",
    "\n",
    "        # Create DataLoader objects\n",
    "        return (\n",
    "            DataLoader(train_dataset, batch_size=16, collate_fn=data_collator, sampler=sampler),\n",
    "            DataLoader(dev_dataset, batch_size=16, collate_fn=data_collator),\n",
    "            label_encoder\n",
    "        )\n",
    "\n",
    "    else:\n",
    "        return (\n",
    "            DataLoader(train_dataset, batch_size=16, collate_fn=data_collator),\n",
    "            DataLoader(dev_dataset, batch_size=16, collate_fn=data_collator),\n",
    "            label_encoder\n",
    "         )"
   ]
  },
  {
   "cell_type": "markdown",
   "metadata": {},
   "source": [
    "**Evaluation function:**\n",
    "\n",
    "We compute the performance for ST1 and ST2 by calculating the macro-F1-score on the predicted labels (hazards_pred & products_pred) using the annotated labels (hazards_true & products_true) as ground truth, as provided by the challenge."
   ]
  },
  {
   "cell_type": "code",
   "execution_count": 7,
   "metadata": {},
   "outputs": [],
   "source": [
    "def compute_score(hazards_true, products_true, hazards_pred, products_pred):\n",
    "  # compute f1 for hazards:\n",
    "  f1_hazards = f1_score(\n",
    "    hazards_true,\n",
    "    hazards_pred,\n",
    "    average='macro'\n",
    "  )\n",
    "\n",
    "  # compute f1 for products:\n",
    "  f1_products = f1_score(\n",
    "    products_true[hazards_pred == hazards_true],\n",
    "    products_pred[hazards_pred == hazards_true],\n",
    "    average='macro'\n",
    "  )\n",
    "\n",
    "  return (f1_hazards + f1_products) / 2."
   ]
  },
  {
   "cell_type": "markdown",
   "metadata": {},
   "source": [
    "## Sub-Task 1:"
   ]
  },
  {
   "cell_type": "markdown",
   "metadata": {},
   "source": [
    "### Label:`Hazard Category`"
   ]
  },
  {
   "cell_type": "code",
   "execution_count": 8,
   "metadata": {},
   "outputs": [
    {
     "data": {
      "application/vnd.jupyter.widget-view+json": {
       "model_id": "35b22cd0ff3148349ebc4b89503793b9",
       "version_major": 2,
       "version_minor": 0
      },
      "text/plain": [
       "Map:   0%|          | 0/5623 [00:00<?, ? examples/s]"
      ]
     },
     "metadata": {},
     "output_type": "display_data"
    },
    {
     "data": {
      "application/vnd.jupyter.widget-view+json": {
       "model_id": "05a3a1c824e0469b85fdfd99331d38a1",
       "version_major": 2,
       "version_minor": 0
      },
      "text/plain": [
       "Map:   0%|          | 0/997 [00:00<?, ? examples/s]"
      ]
     },
     "metadata": {},
     "output_type": "display_data"
    }
   ],
   "source": [
    "label = 'hazard-category'\n",
    "\n",
    "# Create DataLoader objects, DOESN'T USE OVERSAMPLING\n",
    "train_dataloader, dev_dataloader, le_hazard_category = prepare_data(label, False)"
   ]
  },
  {
   "cell_type": "markdown",
   "metadata": {},
   "source": [
    "* choose model"
   ]
  },
  {
   "cell_type": "code",
   "execution_count": 9,
   "metadata": {},
   "outputs": [
    {
     "name": "stderr",
     "output_type": "stream",
     "text": [
      "Some weights of RobertaForSequenceClassification were not initialized from the model checkpoint at roberta-large and are newly initialized: ['classifier.dense.bias', 'classifier.dense.weight', 'classifier.out_proj.bias', 'classifier.out_proj.weight']\n",
      "You should probably TRAIN this model on a down-stream task to be able to use it for predictions and inference.\n"
     ]
    }
   ],
   "source": [
    "model_hazard_category = RobertaForSequenceClassification.from_pretrained(model_name, num_labels=len(data[label].unique()))\n",
    "model_hazard_category = model_hazard_category.to('cuda')"
   ]
  },
  {
   "cell_type": "markdown",
   "metadata": {},
   "source": [
    "**Train** with:\n",
    "  - *Epochs* = 2\n",
    "  - *Learning rate* = 2e-5\n",
    "  - *Weight decay* = 0.01\n",
    "  - *Warmup steps* = 10%\n",
    "  - NO Oversampling"
   ]
  },
  {
   "cell_type": "code",
   "execution_count": 10,
   "metadata": {},
   "outputs": [
    {
     "name": "stderr",
     "output_type": "stream",
     "text": [
      "/home/ec2-user/anaconda3/envs/python3/lib/python3.10/site-packages/transformers/optimization.py:591: FutureWarning: This implementation of AdamW is deprecated and will be removed in a future version. Use the PyTorch implementation torch.optim.AdamW instead, or set `no_deprecation_warning=True` to disable this warning\n",
      "  warnings.warn(\n"
     ]
    },
    {
     "data": {
      "application/vnd.jupyter.widget-view+json": {
       "model_id": "5e915df4719541469e0ddf2a61ae3037",
       "version_major": 2,
       "version_minor": 0
      },
      "text/plain": [
       "  0%|          | 0/704 [00:00<?, ?it/s]"
      ]
     },
     "metadata": {},
     "output_type": "display_data"
    },
    {
     "name": "stdout",
     "output_type": "stream",
     "text": [
      "Epoch 1, Step 50, Avg Loss: 1.8729\n",
      "Epoch 1, Step 100, Avg Loss: 0.8662\n",
      "Epoch 1, Step 150, Avg Loss: 0.3259\n",
      "Epoch 1, Step 200, Avg Loss: 0.2912\n",
      "Epoch 1, Step 250, Avg Loss: 0.2811\n",
      "Epoch 1, Step 300, Avg Loss: 0.3690\n",
      "Epoch 1, Step 350, Avg Loss: 0.2660\n",
      "Validation Accuracy after Epoch 1: 0.9388\n",
      "Epoch 2, Step 50, Avg Loss: 0.3498\n",
      "Epoch 2, Step 100, Avg Loss: 0.2724\n",
      "Epoch 2, Step 150, Avg Loss: 0.1549\n",
      "Epoch 2, Step 200, Avg Loss: 0.1596\n",
      "Epoch 2, Step 250, Avg Loss: 0.1682\n",
      "Epoch 2, Step 300, Avg Loss: 0.1945\n",
      "Epoch 2, Step 350, Avg Loss: 0.1708\n",
      "Validation Accuracy after Epoch 2: 0.9488\n"
     ]
    }
   ],
   "source": [
    "# Define optimizer and learning rate scheduler\n",
    "optimizer = AdamW(model_hazard_category.parameters(), lr=2e-5, weight_decay=0.01)\n",
    "\n",
    "num_epochs = 2\n",
    "num_training_steps = num_epochs * len(train_dataloader)\n",
    "num_warmup_steps = int(0.1 * num_training_steps)  # 10% warmup\n",
    "lr_scheduler = get_scheduler(\n",
    "    \"linear\",\n",
    "    optimizer=optimizer,\n",
    "    num_warmup_steps=num_warmup_steps,\n",
    "    num_training_steps=num_training_steps,\n",
    ")\n",
    "\n",
    "model_hazard_category.train()\n",
    "progress_bar = tqdm(range(num_training_steps))\n",
    "\n",
    "log_steps = 50  # Log every 50 steps\n",
    "total_loss = 0\n",
    "\n",
    "for epoch in range(num_epochs):\n",
    "    for step, batch in enumerate(train_dataloader):\n",
    "        batch = {k: v.to('cuda') for k, v in batch.items()}\n",
    "        \n",
    "        outputs = model_hazard_category(**batch)\n",
    "        loss = outputs.loss\n",
    "        \n",
    "        loss.backward()\n",
    "        optimizer.step()  \n",
    "        lr_scheduler.step()\n",
    "        optimizer.zero_grad()\n",
    "        \n",
    "        total_loss += loss.item()\n",
    "        \n",
    "        if (step + 1) % log_steps == 0:\n",
    "            print(f\"Epoch {epoch+1}, Step {step+1}, Avg Loss: {total_loss / log_steps:.4f}\")\n",
    "            total_loss = 0  # Reset loss counter\n",
    "        \n",
    "        progress_bar.update(1)\n",
    "\n",
    "    # Validation Loop\n",
    "    model_hazard_category.eval()\n",
    "    correct, total = 0, 0\n",
    "    with torch.no_grad():\n",
    "        for batch in dev_dataloader:\n",
    "            batch = {k: v.to('cuda') for k, v in batch.items()}  \n",
    "            outputs = model_hazard_category(**batch)\n",
    "            predictions = torch.argmax(outputs.logits, dim=-1)\n",
    "            correct += (predictions == batch[\"labels\"]).sum().item()\n",
    "            total += batch[\"labels\"].size(0)\n",
    "    \n",
    "    accuracy = correct / total\n",
    "    print(f\"Validation Accuracy after Epoch {epoch+1}: {accuracy:.4f}\")\n",
    "    model_hazard_category.train()  # Switch back to training mode"
   ]
  },
  {
   "cell_type": "markdown",
   "metadata": {},
   "source": [
    "* Evaluate the model"
   ]
  },
  {
   "cell_type": "code",
   "execution_count": 11,
   "metadata": {},
   "outputs": [
    {
     "name": "stdout",
     "output_type": "stream",
     "text": [
      "                                precision    recall  f1-score   support\n",
      "\n",
      "                     allergens       0.96      0.97      0.97       365\n",
      "                    biological       0.98      0.97      0.98       343\n",
      "                      chemical       0.91      0.94      0.92        52\n",
      "food additives and flavourings       1.00      0.50      0.67         4\n",
      "                foreign bodies       0.97      0.97      0.97       111\n",
      "                         fraud       0.82      0.80      0.81        75\n",
      "                     migration       0.00      0.00      0.00         1\n",
      "          organoleptic aspects       0.91      1.00      0.95        10\n",
      "                  other hazard       0.74      0.77      0.75        26\n",
      "              packaging defect       0.75      0.90      0.82        10\n",
      "\n",
      "                      accuracy                           0.95       997\n",
      "                     macro avg       0.80      0.78      0.78       997\n",
      "                  weighted avg       0.95      0.95      0.95       997\n",
      "\n"
     ]
    }
   ],
   "source": [
    "model_hazard_category.eval()\n",
    "total_predictions = []\n",
    "with torch.no_grad():\n",
    "    for batch in dev_dataloader:\n",
    "        batch = {k: v.to('cuda') for k, v in batch.items()}\n",
    "        outputs = model_hazard_category(**batch)\n",
    "        predictions = torch.argmax(outputs.logits, dim=-1)\n",
    "        total_predictions.extend([p.item() for p in predictions])\n",
    "\n",
    "predicted_labels = le_hazard_category.inverse_transform(total_predictions)\n",
    "gold_labels = le_hazard_category.inverse_transform(dev_df.label.values)\n",
    "print(classification_report(gold_labels, predicted_labels, zero_division=0))\n",
    "\n",
    "dev_df['predictions-hazard-category'] = predicted_labels"
   ]
  },
  {
   "cell_type": "markdown",
   "metadata": {},
   "source": [
    "### Label:`Product Category`"
   ]
  },
  {
   "cell_type": "code",
   "execution_count": 12,
   "metadata": {},
   "outputs": [
    {
     "data": {
      "application/vnd.jupyter.widget-view+json": {
       "model_id": "8db940ae6e48436190b411ab02d95ed6",
       "version_major": 2,
       "version_minor": 0
      },
      "text/plain": [
       "Map:   0%|          | 0/5623 [00:00<?, ? examples/s]"
      ]
     },
     "metadata": {},
     "output_type": "display_data"
    },
    {
     "data": {
      "application/vnd.jupyter.widget-view+json": {
       "model_id": "72f5c6a1843443818b3aa6fb32cf760b",
       "version_major": 2,
       "version_minor": 0
      },
      "text/plain": [
       "Map:   0%|          | 0/997 [00:00<?, ? examples/s]"
      ]
     },
     "metadata": {},
     "output_type": "display_data"
    }
   ],
   "source": [
    "label = 'product-category'\n",
    "\n",
    "# Create DataLoader objects\n",
    "train_dataloader, dev_dataloader, le_product_category = prepare_data(label)"
   ]
  },
  {
   "cell_type": "markdown",
   "metadata": {},
   "source": [
    "* choose model"
   ]
  },
  {
   "cell_type": "code",
   "execution_count": 13,
   "metadata": {},
   "outputs": [
    {
     "name": "stderr",
     "output_type": "stream",
     "text": [
      "Some weights of RobertaForSequenceClassification were not initialized from the model checkpoint at roberta-large and are newly initialized: ['classifier.dense.bias', 'classifier.dense.weight', 'classifier.out_proj.bias', 'classifier.out_proj.weight']\n",
      "You should probably TRAIN this model on a down-stream task to be able to use it for predictions and inference.\n"
     ]
    }
   ],
   "source": [
    "model_product_category = RobertaForSequenceClassification.from_pretrained(model_name, num_labels=len(data[label].unique()))\n",
    "model_product_category = model_product_category.to('cuda')"
   ]
  },
  {
   "cell_type": "markdown",
   "metadata": {},
   "source": [
    "**Train** with:\n",
    "  - *Epochs* = 3\n",
    "  - *Learning rate* = 2e-5\n",
    "  - *Weight decay* = 0.01\n",
    "  - *Warmup steps* = 10%\n",
    "  - *FP16 Mixed Precision*\n",
    "  - *Oversampling* (alpha = 0.5)"
   ]
  },
  {
   "cell_type": "code",
   "execution_count": null,
   "metadata": {},
   "outputs": [
    {
     "name": "stderr",
     "output_type": "stream",
     "text": [
      "/home/ec2-user/anaconda3/envs/python3/lib/python3.10/site-packages/transformers/optimization.py:591: FutureWarning: This implementation of AdamW is deprecated and will be removed in a future version. Use the PyTorch implementation torch.optim.AdamW instead, or set `no_deprecation_warning=True` to disable this warning\n",
      "  warnings.warn(\n",
      "/tmp/ipykernel_29769/149357796.py:15: FutureWarning: `torch.cuda.amp.GradScaler(args...)` is deprecated. Please use `torch.amp.GradScaler('cuda', args...)` instead.\n",
      "  scaler = GradScaler()\n"
     ]
    },
    {
     "data": {
      "application/vnd.jupyter.widget-view+json": {
       "model_id": "4dfd73f0d0c74cb29524091eb4f66766",
       "version_major": 2,
       "version_minor": 0
      },
      "text/plain": [
       "  0%|          | 0/1266 [00:00<?, ?it/s]"
      ]
     },
     "metadata": {},
     "output_type": "display_data"
    },
    {
     "name": "stderr",
     "output_type": "stream",
     "text": [
      "/tmp/ipykernel_29769/149357796.py:28: FutureWarning: `torch.cuda.amp.autocast(args...)` is deprecated. Please use `torch.amp.autocast('cuda', args...)` instead.\n",
      "  with autocast():\n"
     ]
    },
    {
     "name": "stdout",
     "output_type": "stream",
     "text": [
      "Epoch 1, Step 50, Avg Loss: 3.0061\n",
      "Epoch 1, Step 100, Avg Loss: 2.8339\n",
      "Epoch 1, Step 150, Avg Loss: 2.0823\n",
      "Epoch 1, Step 200, Avg Loss: 1.4000\n",
      "Epoch 1, Step 250, Avg Loss: 1.1606\n",
      "Epoch 1, Step 300, Avg Loss: 0.9090\n",
      "Epoch 1, Step 350, Avg Loss: 0.8594\n",
      "Epoch 1, Step 400, Avg Loss: 0.8640\n",
      "Validation Accuracy after Epoch 1: 0.7673\n",
      "Epoch 2, Step 50, Avg Loss: 0.9079\n",
      "Epoch 2, Step 100, Avg Loss: 0.6319\n",
      "Epoch 2, Step 150, Avg Loss: 0.6325\n",
      "Epoch 2, Step 200, Avg Loss: 0.5543\n",
      "Epoch 2, Step 250, Avg Loss: 0.5031\n",
      "Epoch 2, Step 300, Avg Loss: 0.4553\n",
      "Epoch 2, Step 350, Avg Loss: 0.4256\n",
      "Epoch 2, Step 400, Avg Loss: 0.3719\n",
      "Validation Accuracy after Epoch 2: 0.8054\n",
      "Epoch 3, Step 50, Avg Loss: 0.5754\n",
      "Epoch 3, Step 100, Avg Loss: 0.3459\n",
      "Epoch 3, Step 150, Avg Loss: 0.3093\n",
      "Epoch 3, Step 200, Avg Loss: 0.3108\n",
      "Epoch 3, Step 250, Avg Loss: 0.3486\n",
      "Epoch 3, Step 300, Avg Loss: 0.2888\n",
      "Epoch 3, Step 350, Avg Loss: 0.2923\n",
      "Epoch 3, Step 400, Avg Loss: 0.2878\n",
      "Validation Accuracy after Epoch 3: 0.8104\n"
     ]
    }
   ],
   "source": [
    "# Define optimizer and learning rate scheduler\n",
    "optimizer = AdamW(model_product_category.parameters(), lr=2e-5, weight_decay=0.01)\n",
    "\n",
    "num_epochs = 3\n",
    "num_training_steps = num_epochs * len(train_dataloader)\n",
    "num_warmup_steps = int(0.1 * num_training_steps)  # 10% warmup\n",
    "lr_scheduler = get_scheduler(\n",
    "    \"linear\",\n",
    "    optimizer=optimizer,\n",
    "    num_warmup_steps=num_warmup_steps,\n",
    "    num_training_steps=num_training_steps,\n",
    ")\n",
    "\n",
    "# Initialize Gradient Scaler for FP16\n",
    "scaler = GradScaler()\n",
    "\n",
    "model_product_category.train()\n",
    "progress_bar = tqdm(range(num_training_steps))\n",
    "\n",
    "log_steps = 50  # Log every 50 steps\n",
    "total_loss = 0\n",
    "\n",
    "for epoch in range(num_epochs):\n",
    "    for step, batch in enumerate(train_dataloader):\n",
    "        batch = {k: v.to('cuda', non_blocking=True) for k, v in batch.items()}\n",
    "        \n",
    "        # Enable FP16 with autocast\n",
    "        with autocast():\n",
    "            outputs = model_product_category(**batch)\n",
    "            loss = outputs.loss\n",
    "\n",
    "        # Scale loss and backpropagate\n",
    "        scaler.scale(loss).backward()\n",
    "\n",
    "        # Scale optimizer step\n",
    "        scaler.step(optimizer)\n",
    "        scaler.update()\n",
    "        optimizer.zero_grad()\n",
    "        lr_scheduler.step()\n",
    "\n",
    "        total_loss += loss.item()\n",
    "        \n",
    "        if (step + 1) % log_steps == 0:\n",
    "            print(f\"Epoch {epoch+1}, Step {step+1}, Avg Loss: {total_loss / log_steps:.4f}\")\n",
    "            total_loss = 0  # Reset loss counter\n",
    "        \n",
    "        progress_bar.update(1)\n",
    "\n",
    "    #  Validation Loop\n",
    "    model_product_category.eval()\n",
    "    correct, total = 0, 0\n",
    "    with torch.no_grad():\n",
    "        for batch in dev_dataloader:\n",
    "            batch = {k: v.to('cuda', non_blocking=True) for k, v in batch.items()}  \n",
    "            outputs = model_product_category(**batch)\n",
    "            predictions = torch.argmax(outputs.logits, dim=-1)\n",
    "            correct += (predictions == batch[\"labels\"]).sum().item()\n",
    "            total += batch[\"labels\"].size(0)\n",
    "    \n",
    "    accuracy = correct / total\n",
    "    print(f\"Validation Accuracy after Epoch {epoch+1}: {accuracy:.4f}\")\n",
    "    model_product_category.train()  # Switch back to training mode\n"
   ]
  },
  {
   "cell_type": "markdown",
   "metadata": {},
   "source": [
    "* Evaluate the model"
   ]
  },
  {
   "cell_type": "code",
   "execution_count": 15,
   "metadata": {},
   "outputs": [
    {
     "name": "stdout",
     "output_type": "stream",
     "text": [
      "                                                   precision    recall  f1-score   support\n",
      "\n",
      "                              alcoholic beverages       0.94      0.94      0.94        16\n",
      "                      cereals and bakery products       0.79      0.79      0.79       121\n",
      "     cocoa and cocoa preparations, coffee and tea       0.75      0.90      0.82        42\n",
      "                                    confectionery       0.70      0.70      0.70        33\n",
      "dietetic foods, food supplements, fortified foods       0.57      0.77      0.66        26\n",
      "                                    fats and oils       1.00      0.83      0.91         6\n",
      "                   food additives and flavourings       1.00      0.25      0.40         4\n",
      "                            fruits and vegetables       0.86      0.76      0.80       103\n",
      "                                 herbs and spices       0.61      0.70      0.65        20\n",
      "                            honey and royal jelly       0.50      0.50      0.50         2\n",
      "                                ices and desserts       0.98      0.92      0.95        49\n",
      "                     meat, egg and dairy products       0.90      0.90      0.90       282\n",
      "                          non-alcoholic beverages       0.76      0.84      0.80        19\n",
      "                     nuts, nut products and seeds       0.76      0.89      0.82        54\n",
      "                       other food product / mixed       0.56      0.38      0.45        13\n",
      "                                         pet feed       1.00      1.00      1.00         2\n",
      "                       prepared dishes and snacks       0.61      0.54      0.57        92\n",
      "                                          seafood       0.88      0.93      0.90        60\n",
      "             soups, broths, sauces and condiments       0.80      0.77      0.78        52\n",
      "                                sugars and syrups       1.00      1.00      1.00         1\n",
      "\n",
      "                                         accuracy                           0.81       997\n",
      "                                        macro avg       0.80      0.77      0.77       997\n",
      "                                     weighted avg       0.81      0.81      0.81       997\n",
      "\n"
     ]
    }
   ],
   "source": [
    "model_product_category.eval()\n",
    "total_predictions = []\n",
    "with torch.no_grad():\n",
    "    for batch in dev_dataloader:\n",
    "        batch = {k: v.to('cuda') for k, v in batch.items()}  # Move batch to GPU if available\n",
    "        outputs = model_product_category(**batch)\n",
    "        predictions = torch.argmax(outputs.logits, dim=-1)\n",
    "        total_predictions.extend([p.item() for p in predictions])\n",
    "\n",
    "predicted_labels = le_product_category.inverse_transform(total_predictions)\n",
    "gold_labels = le_product_category.inverse_transform(dev_df.label.values)\n",
    "print(classification_report(gold_labels, predicted_labels, zero_division=0))\n",
    "\n",
    "dev_df['predictions-product-category'] = predicted_labels"
   ]
  },
  {
   "cell_type": "markdown",
   "metadata": {},
   "source": [
    "### Evaluate Sub-Task 1"
   ]
  },
  {
   "cell_type": "code",
   "execution_count": 16,
   "metadata": {},
   "outputs": [
    {
     "name": "stdout",
     "output_type": "stream",
     "text": [
      "Score Sub-Task 1: 0.779\n"
     ]
    }
   ],
   "source": [
    "score = compute_score(\n",
    "    dev_df['hazard-category'], dev_df['product-category'],\n",
    "    dev_df['predictions-hazard-category'], dev_df['predictions-product-category']\n",
    ")\n",
    "print(f\"Score Sub-Task 1: {score:.3f}\")"
   ]
  },
  {
   "cell_type": "markdown",
   "metadata": {},
   "source": [
    "## Sub-Task 2"
   ]
  },
  {
   "cell_type": "markdown",
   "metadata": {},
   "source": [
    "### Label: `Hazard`"
   ]
  },
  {
   "cell_type": "code",
   "execution_count": 17,
   "metadata": {},
   "outputs": [
    {
     "data": {
      "application/vnd.jupyter.widget-view+json": {
       "model_id": "78148b6497154d488662007939f1d046",
       "version_major": 2,
       "version_minor": 0
      },
      "text/plain": [
       "Map:   0%|          | 0/5623 [00:00<?, ? examples/s]"
      ]
     },
     "metadata": {},
     "output_type": "display_data"
    },
    {
     "data": {
      "application/vnd.jupyter.widget-view+json": {
       "model_id": "73877b2e6f34433d92a36426c2683e65",
       "version_major": 2,
       "version_minor": 0
      },
      "text/plain": [
       "Map:   0%|          | 0/997 [00:00<?, ? examples/s]"
      ]
     },
     "metadata": {},
     "output_type": "display_data"
    }
   ],
   "source": [
    "label = 'hazard'\n",
    "\n",
    "# Create DataLoader objects\n",
    "train_dataloader, dev_dataloader, le_hazard = prepare_data(label)"
   ]
  },
  {
   "cell_type": "markdown",
   "metadata": {},
   "source": [
    "* choose model"
   ]
  },
  {
   "cell_type": "code",
   "execution_count": 18,
   "metadata": {},
   "outputs": [
    {
     "name": "stderr",
     "output_type": "stream",
     "text": [
      "Some weights of RobertaForSequenceClassification were not initialized from the model checkpoint at roberta-large and are newly initialized: ['classifier.dense.bias', 'classifier.dense.weight', 'classifier.out_proj.bias', 'classifier.out_proj.weight']\n",
      "You should probably TRAIN this model on a down-stream task to be able to use it for predictions and inference.\n"
     ]
    }
   ],
   "source": [
    "model_hazard = RobertaForSequenceClassification.from_pretrained(model_name, num_labels=len(data[label].unique()))\n",
    "model_hazard = model_hazard.to('cuda')"
   ]
  },
  {
   "cell_type": "markdown",
   "metadata": {},
   "source": [
    "**Train** with:\n",
    "  - *Epochs* = 5\n",
    "  - *Learning rate* = 2e-5\n",
    "  - *Weight decay* = 0.001\n",
    "  - *Warmup steps* = 10%\n",
    "  - *FP16 Mixed Precision*\n",
    "  - *Oversampling* (alpha = 0.5)"
   ]
  },
  {
   "cell_type": "code",
   "execution_count": 19,
   "metadata": {},
   "outputs": [
    {
     "name": "stderr",
     "output_type": "stream",
     "text": [
      "/home/ec2-user/anaconda3/envs/python3/lib/python3.10/site-packages/transformers/optimization.py:591: FutureWarning: This implementation of AdamW is deprecated and will be removed in a future version. Use the PyTorch implementation torch.optim.AdamW instead, or set `no_deprecation_warning=True` to disable this warning\n",
      "  warnings.warn(\n",
      "/tmp/ipykernel_29769/158766265.py:15: FutureWarning: `torch.cuda.amp.GradScaler(args...)` is deprecated. Please use `torch.amp.GradScaler('cuda', args...)` instead.\n",
      "  scaler = GradScaler()\n"
     ]
    },
    {
     "data": {
      "application/vnd.jupyter.widget-view+json": {
       "model_id": "9230d0f19d884b6dbefd80cdb5371786",
       "version_major": 2,
       "version_minor": 0
      },
      "text/plain": [
       "  0%|          | 0/2110 [00:00<?, ?it/s]"
      ]
     },
     "metadata": {},
     "output_type": "display_data"
    },
    {
     "name": "stderr",
     "output_type": "stream",
     "text": [
      "/tmp/ipykernel_29769/158766265.py:28: FutureWarning: `torch.cuda.amp.autocast(args...)` is deprecated. Please use `torch.amp.autocast('cuda', args...)` instead.\n",
      "  with autocast():\n"
     ]
    },
    {
     "name": "stdout",
     "output_type": "stream",
     "text": [
      "Epoch 1, Step 50, Avg Loss: 4.8244\n",
      "Epoch 1, Step 100, Avg Loss: 4.6256\n",
      "Epoch 1, Step 150, Avg Loss: 4.5908\n",
      "Epoch 1, Step 200, Avg Loss: 3.8827\n",
      "Epoch 1, Step 250, Avg Loss: 3.0045\n",
      "Epoch 1, Step 300, Avg Loss: 2.3308\n",
      "Epoch 1, Step 350, Avg Loss: 2.0527\n",
      "Epoch 1, Step 400, Avg Loss: 1.9020\n",
      "Validation Accuracy after Epoch 1: 0.8305\n",
      "Epoch 2, Step 50, Avg Loss: 2.1894\n",
      "Epoch 2, Step 100, Avg Loss: 1.2733\n",
      "Epoch 2, Step 150, Avg Loss: 1.2524\n",
      "Epoch 2, Step 200, Avg Loss: 1.1719\n",
      "Epoch 2, Step 250, Avg Loss: 1.0366\n",
      "Epoch 2, Step 300, Avg Loss: 0.7948\n",
      "Epoch 2, Step 350, Avg Loss: 0.8457\n",
      "Epoch 2, Step 400, Avg Loss: 0.8207\n",
      "Validation Accuracy after Epoch 2: 0.8445\n",
      "Epoch 3, Step 50, Avg Loss: 1.1041\n",
      "Epoch 3, Step 100, Avg Loss: 0.6683\n",
      "Epoch 3, Step 150, Avg Loss: 0.6452\n",
      "Epoch 3, Step 200, Avg Loss: 0.6049\n",
      "Epoch 3, Step 250, Avg Loss: 0.5795\n",
      "Epoch 3, Step 300, Avg Loss: 0.5328\n",
      "Epoch 3, Step 350, Avg Loss: 0.4992\n",
      "Epoch 3, Step 400, Avg Loss: 0.4686\n",
      "Validation Accuracy after Epoch 3: 0.8425\n",
      "Epoch 4, Step 50, Avg Loss: 0.6458\n",
      "Epoch 4, Step 100, Avg Loss: 0.4466\n",
      "Epoch 4, Step 150, Avg Loss: 0.3997\n",
      "Epoch 4, Step 200, Avg Loss: 0.3531\n",
      "Epoch 4, Step 250, Avg Loss: 0.3895\n",
      "Epoch 4, Step 300, Avg Loss: 0.3907\n",
      "Epoch 4, Step 350, Avg Loss: 0.3524\n",
      "Epoch 4, Step 400, Avg Loss: 0.3559\n",
      "Validation Accuracy after Epoch 4: 0.8626\n",
      "Epoch 5, Step 50, Avg Loss: 0.4478\n",
      "Epoch 5, Step 100, Avg Loss: 0.2657\n",
      "Epoch 5, Step 150, Avg Loss: 0.2997\n",
      "Epoch 5, Step 200, Avg Loss: 0.2908\n",
      "Epoch 5, Step 250, Avg Loss: 0.2653\n",
      "Epoch 5, Step 300, Avg Loss: 0.2994\n",
      "Epoch 5, Step 350, Avg Loss: 0.2783\n",
      "Epoch 5, Step 400, Avg Loss: 0.2315\n",
      "Validation Accuracy after Epoch 5: 0.8616\n"
     ]
    }
   ],
   "source": [
    "# Define optimizer and learning rate scheduler\n",
    "optimizer = AdamW(model_hazard.parameters(), lr=2e-5, weight_decay=0.001)\n",
    "\n",
    "num_epochs = 5\n",
    "num_training_steps = num_epochs * len(train_dataloader)\n",
    "num_warmup_steps = int(0.1 * num_training_steps)  # 10% warmup\n",
    "lr_scheduler = get_scheduler(\n",
    "    \"linear\",\n",
    "    optimizer=optimizer,\n",
    "    num_warmup_steps=num_warmup_steps,\n",
    "    num_training_steps=num_training_steps,\n",
    ")\n",
    "\n",
    "# Initialize Gradient Scaler for FP16\n",
    "scaler = GradScaler()\n",
    "\n",
    "model_hazard.train()\n",
    "progress_bar = tqdm(range(num_training_steps))\n",
    "\n",
    "log_steps = 50  # Log every 50 steps\n",
    "total_loss = 0\n",
    "\n",
    "for epoch in range(num_epochs):\n",
    "    for step, batch in enumerate(train_dataloader):\n",
    "        batch = {k: v.to('cuda', non_blocking=True) for k, v in batch.items()}\n",
    "        \n",
    "        # Enable FP16 with autocast\n",
    "        with autocast():\n",
    "            outputs = model_hazard(**batch)\n",
    "            loss = outputs.loss  \n",
    "\n",
    "        # Scale loss and backpropagate\n",
    "        scaler.scale(loss).backward()\n",
    "\n",
    "        #  Scale optimizer step\n",
    "        scaler.step(optimizer)\n",
    "        scaler.update()\n",
    "        optimizer.zero_grad()\n",
    "        lr_scheduler.step()\n",
    "\n",
    "        total_loss += loss.item()\n",
    "        \n",
    "        if (step + 1) % log_steps == 0:\n",
    "            print(f\"Epoch {epoch+1}, Step {step+1}, Avg Loss: {total_loss / log_steps:.4f}\")\n",
    "            total_loss = 0  # Reset loss counter\n",
    "        \n",
    "        progress_bar.update(1)\n",
    "\n",
    "    # Validation Loop\n",
    "    model_hazard.eval()\n",
    "    correct, total = 0, 0\n",
    "    with torch.no_grad():\n",
    "        for batch in dev_dataloader:\n",
    "            batch = {k: v.to('cuda', non_blocking=True) for k, v in batch.items()}  \n",
    "            outputs = model_hazard(**batch)\n",
    "            predictions = torch.argmax(outputs.logits, dim=-1)\n",
    "            correct += (predictions == batch[\"labels\"]).sum().item()\n",
    "            total += batch[\"labels\"].size(0)\n",
    "    \n",
    "    accuracy = correct / total\n",
    "    print(f\"Validation Accuracy after Epoch {epoch+1}: {accuracy:.4f}\")\n",
    "    model_hazard.train()  # Switch back to training mode"
   ]
  },
  {
   "cell_type": "markdown",
   "metadata": {},
   "source": [
    "* Evaluate the model"
   ]
  },
  {
   "cell_type": "code",
   "execution_count": 20,
   "metadata": {},
   "outputs": [
    {
     "name": "stdout",
     "output_type": "stream",
     "text": [
      "                                                 precision    recall  f1-score   support\n",
      "\n",
      "                                      Aflatoxin       1.00      0.50      0.67         2\n",
      "                                 abnormal smell       1.00      1.00      1.00         1\n",
      "                                alcohol content       0.00      0.00      0.00         1\n",
      "                                      alkaloids       1.00      1.00      1.00         1\n",
      "                                      allergens       0.00      0.00      0.00         3\n",
      "                                         almond       1.00      0.85      0.92        13\n",
      "           altered organoleptic characteristics       0.00      0.00      0.00         0\n",
      "                                      amygdalin       0.00      0.00      0.00         1\n",
      "                         antibiotics, vet drugs       1.00      1.00      1.00         1\n",
      "                                  bacillus spp.       1.00      1.00      1.00         3\n",
      "                           bad smell / off odor       1.00      1.00      1.00         1\n",
      "                                  bone fragment       1.00      1.00      1.00         2\n",
      "                                     brazil nut       1.00      1.00      1.00         1\n",
      "                              bulging packaging       0.50      0.50      0.50         4\n",
      "                                         cashew       0.50      0.83      0.62         6\n",
      "                    celery and products thereof       0.00      0.00      0.00         1\n",
      "                                        cereals       0.00      0.00      0.00         1\n",
      " cereals containing gluten and products thereof       0.85      0.80      0.82        41\n",
      "                                       chemical       0.00      0.00      0.00         1\n",
      "               chemical compound (high content)       0.50      0.50      0.50         2\n",
      "               chemical compound (unauthorised)       0.50      0.50      0.50         2\n",
      "                          clostridium botulinum       0.88      0.88      0.88         8\n",
      "                                      coliforms       1.00      1.00      1.00         1\n",
      "                        compositional deviation       0.00      0.00      0.00         1\n",
      "                                cronobacter spp       1.00      1.00      1.00         1\n",
      "               crustaceans and products thereof       0.50      0.33      0.40         3\n",
      "                                     cyclospora       0.67      1.00      0.80         2\n",
      "                                 dairy products       0.00      0.00      0.00         0\n",
      "                              damaged packaging       0.00      0.00      0.00         1\n",
      "                    e 425 - konjac unauthorised       1.00      1.00      1.00         2\n",
      "                      eggs and products thereof       0.86      0.88      0.87        41\n",
      "                                  enteroviruses       1.00      1.00      1.00         2\n",
      "                               escherichia coli       0.94      1.00      0.97        47\n",
      "                         false marketing claims       0.00      0.00      0.00         1\n",
      "                      fish and products thereof       0.64      0.88      0.74         8\n",
      "                                 foreign bodies       0.33      0.80      0.47         5\n",
      "                                 glass fragment       1.00      1.00      1.00        17\n",
      "                                       hazelnut       1.00      1.00      1.00         3\n",
      "                                   heavy metals       0.83      0.83      0.83         6\n",
      "                         high content of copper       1.00      1.00      1.00         1\n",
      "                        high content of cyanide       0.67      1.00      0.80         2\n",
      "                       high content of vitamins       1.00      1.00      1.00         1\n",
      "                            improper conditions       0.50      0.33      0.40         3\n",
      "                             improper packaging       0.00      0.00      0.00         1\n",
      "                             incorrect labeling       0.17      0.12      0.14         8\n",
      "                         incorrect use by dates       0.83      1.00      0.91         5\n",
      "                                        insects       1.00      1.00      1.00         4\n",
      "                              inspection issues       0.77      0.85      0.81        20\n",
      "           insufficient labelling/documentation       0.00      0.00      0.00         4\n",
      "                       labelling/misdescription       0.67      0.86      0.75         7\n",
      "                         listeria monocytogenes       0.98      0.95      0.96       131\n",
      "                                   listeria spp       0.50      1.00      0.67         1\n",
      "                                 metal fragment       0.96      0.87      0.92        31\n",
      "                  microbiological contamination       0.60      1.00      0.75         3\n",
      "                      milk and products thereof       0.95      0.91      0.93       115\n",
      "                                    misbranding       0.25      0.33      0.29         3\n",
      "                                 misdescription       0.57      0.80      0.67         5\n",
      "                                    mislabelled       0.00      0.00      0.00         1\n",
      "                  molluscs and products thereof       1.00      1.00      1.00         1\n",
      "                                         moulds       1.00      1.00      1.00         5\n",
      "                   mustard and products thereof       0.89      0.80      0.84        10\n",
      "                      non compliance with HACCP       0.50      1.00      0.67         1\n",
      "                                      norovirus       1.00      1.00      1.00         4\n",
      "                                     novel food       0.00      0.00      0.00         1\n",
      "                                           nuts       0.50      0.50      0.50         6\n",
      "                                          other       0.56      0.47      0.51        19\n",
      "                       other misbranding issues       0.00      0.00      0.00         1\n",
      "                           other not classified       0.62      0.71      0.67         7\n",
      "        other not classified biological hazards       0.00      0.00      0.00         3\n",
      "          other not classified chemical hazards       0.80      1.00      0.89         4\n",
      "other not classified hazards for foreign bodies       0.50      0.50      0.50         2\n",
      "                               packaging defect       0.60      0.75      0.67         4\n",
      "                                           pahs       1.00      1.00      1.00         1\n",
      "     paralytic shellfish poisoning (psp) toxins       1.00      1.00      1.00         1\n",
      "                            pathogenic bacteria       0.00      0.00      0.00         1\n",
      "                                        patulin       1.00      1.00      1.00         2\n",
      "                   peanuts and products thereof       0.90      0.90      0.90        42\n",
      "                                      pecan nut       0.50      0.67      0.57         3\n",
      "                                 pieces of wood       1.00      1.00      1.00         1\n",
      "                                  pistachio nut       1.00      0.50      0.67         2\n",
      "                               plastic fragment       0.88      0.90      0.89        40\n",
      "               polycyclic aromatic hydrocarbons       1.00      1.00      1.00         1\n",
      "                            poor hygienic state       1.00      1.00      1.00         1\n",
      "                  poor or insufficient controls       0.67      1.00      0.80         2\n",
      "                                     processing       0.80      1.00      0.89         8\n",
      "               product category/characteristics       0.00      0.00      0.00         1\n",
      "                               pseudomonas spp.       1.00      1.00      1.00         1\n",
      "                               rubber fragments       0.83      0.83      0.83         6\n",
      "                                     salmonella       1.00      0.96      0.98       122\n",
      "              sesame seeds and products thereof       0.89      1.00      0.94         8\n",
      "                  soybeans and products thereof       0.94      0.85      0.89        34\n",
      "                  specified risk material (srm)       1.00      0.50      0.67         2\n",
      "                                       spoilage       1.00      0.83      0.91         6\n",
      "                                 staphylococcus       1.00      1.00      1.00         2\n",
      "                                         stones       0.67      1.00      0.80         2\n",
      "                            sulphates/sulphites       1.00      0.50      0.67         2\n",
      "                                sulphur dioxide       0.60      1.00      0.75         3\n",
      "                  sulphur dioxide and sulphites       0.80      0.89      0.84        18\n",
      "                              taste disturbance       0.50      1.00      0.67         1\n",
      " too high content of tetrahydrocannabinol (THC)       1.00      1.00      1.00         1\n",
      "                                          toxin       1.00      1.00      1.00         4\n",
      "                    unauthorised colour sudan 4       0.50      1.00      0.67         1\n",
      "                            unauthorised import       0.00      0.00      0.00         1\n",
      "             unauthorised placing on the market       0.00      0.00      0.00         1\n",
      "          unauthorised substance ethylene oxide       1.00      1.00      1.00        10\n",
      "              unauthorised substance sildenafil       1.00      1.00      1.00         1\n",
      "                            undeclared additive       0.75      1.00      0.86         3\n",
      "                         undeclared constituent       0.00      0.00      0.00         2\n",
      "                                     vibrio spp       1.00      1.00      1.00         1\n",
      "                                          virus       1.00      1.00      1.00         1\n",
      "                                         walnut       0.71      0.83      0.77         6\n",
      "                                         yeasts       1.00      1.00      1.00         1\n",
      "\n",
      "                                       accuracy                           0.86       997\n",
      "                                      macro avg       0.66      0.70      0.67       997\n",
      "                                   weighted avg       0.86      0.86      0.86       997\n",
      "\n"
     ]
    }
   ],
   "source": [
    "model_hazard.eval()\n",
    "total_predictions = []\n",
    "with torch.no_grad():\n",
    "    for batch in dev_dataloader:\n",
    "        batch = {k: v.to('cuda') for k, v in batch.items()}  # Move batch to GPU if available\n",
    "        outputs = model_hazard(**batch)\n",
    "        predictions = torch.argmax(outputs.logits, dim=-1)\n",
    "        total_predictions.extend([p.item() for p in predictions])\n",
    "\n",
    "predicted_labels = le_hazard.inverse_transform(total_predictions)\n",
    "gold_labels = le_hazard.inverse_transform(dev_df.label.values)\n",
    "print(classification_report(gold_labels, predicted_labels, zero_division=0))\n",
    "\n",
    "dev_df['predictions-hazard'] = predicted_labels"
   ]
  },
  {
   "cell_type": "markdown",
   "metadata": {},
   "source": [
    "### Label: `Product`"
   ]
  },
  {
   "cell_type": "code",
   "execution_count": 21,
   "metadata": {},
   "outputs": [
    {
     "data": {
      "application/vnd.jupyter.widget-view+json": {
       "model_id": "f24406e83bc34a58b839b905bd549bae",
       "version_major": 2,
       "version_minor": 0
      },
      "text/plain": [
       "Map:   0%|          | 0/5623 [00:00<?, ? examples/s]"
      ]
     },
     "metadata": {},
     "output_type": "display_data"
    },
    {
     "data": {
      "application/vnd.jupyter.widget-view+json": {
       "model_id": "c153f0bb771e4e0d8bd4f0036f008833",
       "version_major": 2,
       "version_minor": 0
      },
      "text/plain": [
       "Map:   0%|          | 0/997 [00:00<?, ? examples/s]"
      ]
     },
     "metadata": {},
     "output_type": "display_data"
    }
   ],
   "source": [
    "label = 'product'\n",
    "\n",
    "# Create DataLoader objects\n",
    "train_dataloader, dev_dataloader, le_product = prepare_data(label, True, 0.3)"
   ]
  },
  {
   "cell_type": "markdown",
   "metadata": {},
   "source": [
    "* choose model"
   ]
  },
  {
   "cell_type": "code",
   "execution_count": 22,
   "metadata": {},
   "outputs": [
    {
     "name": "stderr",
     "output_type": "stream",
     "text": [
      "Some weights of RobertaForSequenceClassification were not initialized from the model checkpoint at roberta-large and are newly initialized: ['classifier.dense.bias', 'classifier.dense.weight', 'classifier.out_proj.bias', 'classifier.out_proj.weight']\n",
      "You should probably TRAIN this model on a down-stream task to be able to use it for predictions and inference.\n"
     ]
    }
   ],
   "source": [
    "model_product = RobertaForSequenceClassification.from_pretrained(model_name, num_labels=len(data[label].unique()))\n",
    "model_product = model_product.to('cuda')"
   ]
  },
  {
   "cell_type": "markdown",
   "metadata": {},
   "source": [
    "**Train** with:\n",
    "  - *Epochs* = 9\n",
    "  - *Learning rate* = 2e-5\n",
    "  - *Weight decay* = 0.01\n",
    "  - *Warmup steps* = 10%\n",
    "  - *FP16 Mixed Precision*\n",
    "  - *Oversampling* (alpha = 0.3)"
   ]
  },
  {
   "cell_type": "code",
   "execution_count": 32,
   "metadata": {
    "scrolled": true
   },
   "outputs": [
    {
     "name": "stderr",
     "output_type": "stream",
     "text": [
      "/home/ec2-user/anaconda3/envs/python3/lib/python3.10/site-packages/transformers/optimization.py:591: FutureWarning: This implementation of AdamW is deprecated and will be removed in a future version. Use the PyTorch implementation torch.optim.AdamW instead, or set `no_deprecation_warning=True` to disable this warning\n",
      "  warnings.warn(\n",
      "/tmp/ipykernel_29769/2329747102.py:15: FutureWarning: `torch.cuda.amp.GradScaler(args...)` is deprecated. Please use `torch.amp.GradScaler('cuda', args...)` instead.\n",
      "  scaler = GradScaler()\n"
     ]
    },
    {
     "data": {
      "application/vnd.jupyter.widget-view+json": {
       "model_id": "862f89ab8c6548aba8629dc4c88e81d1",
       "version_major": 2,
       "version_minor": 0
      },
      "text/plain": [
       "  0%|          | 0/3798 [00:00<?, ?it/s]"
      ]
     },
     "metadata": {},
     "output_type": "display_data"
    },
    {
     "name": "stderr",
     "output_type": "stream",
     "text": [
      "/tmp/ipykernel_29769/2329747102.py:28: FutureWarning: `torch.cuda.amp.autocast(args...)` is deprecated. Please use `torch.amp.autocast('cuda', args...)` instead.\n",
      "  with autocast():\n"
     ]
    },
    {
     "name": "stdout",
     "output_type": "stream",
     "text": [
      "Epoch 1, Step 50, Avg Loss: 4.2157\n",
      "Epoch 1, Step 100, Avg Loss: 4.0655\n",
      "Epoch 1, Step 150, Avg Loss: 4.0751\n",
      "Epoch 1, Step 200, Avg Loss: 4.1036\n",
      "Epoch 1, Step 250, Avg Loss: 4.2108\n",
      "Epoch 1, Step 300, Avg Loss: 4.0501\n",
      "Epoch 1, Step 350, Avg Loss: 3.9858\n",
      "Epoch 1, Step 400, Avg Loss: 3.9612\n",
      "Validation Accuracy after Epoch 1: 0.4443\n",
      "Epoch 2, Step 50, Avg Loss: 5.7416\n",
      "Epoch 2, Step 100, Avg Loss: 3.7920\n",
      "Epoch 2, Step 150, Avg Loss: 3.7401\n",
      "Epoch 2, Step 200, Avg Loss: 3.6968\n",
      "Epoch 2, Step 250, Avg Loss: 3.6686\n",
      "Epoch 2, Step 300, Avg Loss: 3.6377\n",
      "Epoch 2, Step 350, Avg Loss: 3.3159\n",
      "Epoch 2, Step 400, Avg Loss: 3.3660\n",
      "Validation Accuracy after Epoch 2: 0.4674\n",
      "Epoch 3, Step 50, Avg Loss: 4.6437\n",
      "Epoch 3, Step 100, Avg Loss: 3.1227\n",
      "Epoch 3, Step 150, Avg Loss: 3.1785\n",
      "Epoch 3, Step 200, Avg Loss: 3.0950\n",
      "Epoch 3, Step 250, Avg Loss: 3.0594\n",
      "Epoch 3, Step 300, Avg Loss: 2.9642\n",
      "Epoch 3, Step 350, Avg Loss: 2.8260\n",
      "Epoch 3, Step 400, Avg Loss: 2.6940\n",
      "Validation Accuracy after Epoch 3: 0.4885\n",
      "Epoch 4, Step 50, Avg Loss: 3.9039\n",
      "Epoch 4, Step 100, Avg Loss: 2.6129\n",
      "Epoch 4, Step 150, Avg Loss: 2.6721\n",
      "Epoch 4, Step 200, Avg Loss: 2.6421\n",
      "Epoch 4, Step 250, Avg Loss: 2.4350\n",
      "Epoch 4, Step 300, Avg Loss: 2.4221\n",
      "Epoch 4, Step 350, Avg Loss: 2.2844\n",
      "Epoch 4, Step 400, Avg Loss: 2.2637\n",
      "Validation Accuracy after Epoch 4: 0.5065\n",
      "Epoch 5, Step 50, Avg Loss: 3.2310\n",
      "Epoch 5, Step 100, Avg Loss: 2.1482\n",
      "Epoch 5, Step 150, Avg Loss: 2.0735\n",
      "Epoch 5, Step 200, Avg Loss: 2.0587\n",
      "Epoch 5, Step 250, Avg Loss: 2.0917\n",
      "Epoch 5, Step 300, Avg Loss: 2.0190\n",
      "Epoch 5, Step 350, Avg Loss: 2.0028\n",
      "Epoch 5, Step 400, Avg Loss: 1.9356\n",
      "Validation Accuracy after Epoch 5: 0.5186\n",
      "Epoch 6, Step 50, Avg Loss: 2.6423\n",
      "Epoch 6, Step 100, Avg Loss: 1.8616\n",
      "Epoch 6, Step 150, Avg Loss: 1.9054\n",
      "Epoch 6, Step 200, Avg Loss: 1.7523\n",
      "Epoch 6, Step 250, Avg Loss: 1.7398\n",
      "Epoch 6, Step 300, Avg Loss: 1.7247\n",
      "Epoch 6, Step 350, Avg Loss: 1.6717\n",
      "Epoch 6, Step 400, Avg Loss: 1.6979\n",
      "Validation Accuracy after Epoch 6: 0.5346\n",
      "Epoch 7, Step 50, Avg Loss: 2.2807\n",
      "Epoch 7, Step 100, Avg Loss: 1.5783\n",
      "Epoch 7, Step 150, Avg Loss: 1.5444\n",
      "Epoch 7, Step 200, Avg Loss: 1.5200\n",
      "Epoch 7, Step 250, Avg Loss: 1.5315\n",
      "Epoch 7, Step 300, Avg Loss: 1.4934\n",
      "Epoch 7, Step 350, Avg Loss: 1.5388\n",
      "Epoch 7, Step 400, Avg Loss: 1.4516\n",
      "Validation Accuracy after Epoch 7: 0.5416\n",
      "Epoch 8, Step 50, Avg Loss: 2.0988\n",
      "Epoch 8, Step 100, Avg Loss: 1.4554\n",
      "Epoch 8, Step 150, Avg Loss: 1.3981\n",
      "Epoch 8, Step 200, Avg Loss: 1.3893\n",
      "Epoch 8, Step 250, Avg Loss: 1.3036\n",
      "Epoch 8, Step 300, Avg Loss: 1.3831\n",
      "Epoch 8, Step 350, Avg Loss: 1.3175\n",
      "Epoch 8, Step 400, Avg Loss: 1.2896\n",
      "Validation Accuracy after Epoch 8: 0.5446\n",
      "Epoch 9, Step 50, Avg Loss: 1.8665\n",
      "Epoch 9, Step 100, Avg Loss: 1.2253\n",
      "Epoch 9, Step 150, Avg Loss: 1.3188\n",
      "Epoch 9, Step 200, Avg Loss: 1.3105\n",
      "Epoch 9, Step 250, Avg Loss: 1.2164\n",
      "Epoch 9, Step 300, Avg Loss: 1.2839\n",
      "Epoch 9, Step 350, Avg Loss: 1.2935\n",
      "Epoch 9, Step 400, Avg Loss: 1.2461\n",
      "Validation Accuracy after Epoch 9: 0.5517\n"
     ]
    }
   ],
   "source": [
    "# Define optimizer and learning rate scheduler\n",
    "optimizer = AdamW(model_product.parameters(), lr=2e-5, weight_decay=0.01)\n",
    "\n",
    "num_epochs = 9\n",
    "num_training_steps = num_epochs * len(train_dataloader)\n",
    "num_warmup_steps = int(0.1 * num_training_steps)  # 10% warmup\n",
    "lr_scheduler = get_scheduler(\n",
    "    \"linear\",\n",
    "    optimizer=optimizer,\n",
    "    num_warmup_steps=num_warmup_steps,\n",
    "    num_training_steps=num_training_steps,\n",
    ")\n",
    "\n",
    "# Initialize Gradient Scaler for FP16\n",
    "scaler = GradScaler()\n",
    "\n",
    "model_product.train()\n",
    "progress_bar = tqdm(range(num_training_steps))\n",
    "\n",
    "log_steps = 50  # Log every 50 steps\n",
    "total_loss = 0\n",
    "\n",
    "for epoch in range(num_epochs):\n",
    "    for step, batch in enumerate(train_dataloader):\n",
    "        batch = {k: v.to('cuda', non_blocking=True) for k, v in batch.items()}\n",
    "        \n",
    "        # Enable FP16 with autocast\n",
    "        with autocast():\n",
    "            outputs = model_product(**batch)\n",
    "            loss = outputs.loss  # No accumulation\n",
    "\n",
    "        # Scale loss and backpropagate\n",
    "        scaler.scale(loss).backward()\n",
    "\n",
    "        # Scale optimizer step\n",
    "        scaler.step(optimizer)\n",
    "        scaler.update()\n",
    "        optimizer.zero_grad()\n",
    "        lr_scheduler.step()\n",
    "\n",
    "        total_loss += loss.item()\n",
    "\n",
    "        if (step + 1) % log_steps == 0:\n",
    "            print(f\"Epoch {epoch+1}, Step {step+1}, Avg Loss: {total_loss / log_steps:.4f}\")\n",
    "            total_loss = 0  # Reset loss counter\n",
    "\n",
    "        progress_bar.update(1)\n",
    "\n",
    "    # Validation Loop\n",
    "    model_product.eval()\n",
    "    correct, total = 0, 0\n",
    "    with torch.no_grad():\n",
    "        for batch in dev_dataloader:\n",
    "            batch = {k: v.to('cuda', non_blocking=True) for k, v in batch.items()}\n",
    "            outputs = model_product(**batch)\n",
    "            predictions = torch.argmax(outputs.logits, dim=-1)\n",
    "            correct += (predictions == batch[\"labels\"]).sum().item()\n",
    "            total += batch[\"labels\"].size(0)\n",
    "\n",
    "    accuracy = correct / total\n",
    "    print(f\"Validation Accuracy after Epoch {epoch+1}: {accuracy:.4f}\")\n",
    "    model_product.train()  # Switch back to training mode\n"
   ]
  },
  {
   "cell_type": "markdown",
   "metadata": {},
   "source": [
    "* Evaluate the model"
   ]
  },
  {
   "cell_type": "code",
   "execution_count": 33,
   "metadata": {
    "scrolled": true
   },
   "outputs": [
    {
     "name": "stdout",
     "output_type": "stream",
     "text": [
      "                                                               precision    recall  f1-score   support\n",
      "\n",
      "                                       Catfishes (freshwater)       0.50      0.33      0.40         3\n",
      "                                              Dried pork meat       0.00      0.00      0.00         1\n",
      "                                        Fishes not identified       0.64      0.88      0.74         8\n",
      "                                     Not classified pork meat       0.50      0.33      0.40         3\n",
      "                          Precooked cooked pork meat products       0.00      0.00      0.00         1\n",
      "                                            Saurida (generic)       0.00      0.00      0.00         1\n",
      "                                                Veggie Burger       0.25      1.00      0.40         1\n",
      "                                                        algae       0.50      1.00      0.67         1\n",
      "                                               almond kernels       0.00      0.00      0.00         1\n",
      "                                              almond products       0.33      1.00      0.50         1\n",
      "                                                      almonds       0.00      0.00      0.00         0\n",
      "                                                     amaranth       0.00      0.00      0.00         2\n",
      "                                                  apple juice       0.00      0.00      0.00         0\n",
      "                                                       apples       0.00      0.00      0.00         1\n",
      "                                              apricot kernels       0.00      0.00      0.00         0\n",
      "                                             assorted baklava       0.00      0.00      0.00         1\n",
      "                                                    baby food       0.33      0.50      0.40         2\n",
      "                                           baby food - canned       0.00      0.00      0.00         1\n",
      "                                                 baby spinach       0.00      0.00      0.00         0\n",
      "                                                       bagels       0.00      0.00      0.00         0\n",
      "                                              bakery products       0.00      0.00      0.00         4\n",
      "                                                   baking mix       1.00      0.33      0.50         3\n",
      "                                                      baklava       0.00      0.00      0.00         0\n",
      "                                                       barley       0.00      0.00      0.00         1\n",
      "                                                         bars       0.67      1.00      0.80         4\n",
      "                                            basil pesto sauce       0.60      1.00      0.75         3\n",
      "                                                   batter mix       0.00      0.00      0.00         1\n",
      "                                                    bean curd       0.00      0.00      0.00         1\n",
      "                                                   bean sauce       0.00      0.00      0.00         0\n",
      "                                                   bean snack       0.00      0.00      0.00         0\n",
      "                                                 bean sprouts       1.00      1.00      1.00         2\n",
      "                                                         beef       0.25      0.20      0.22         5\n",
      "                                                    beef cuts       0.00      0.00      0.00         1\n",
      "                                                    beef meat       0.00      0.00      0.00         1\n",
      "                                                beef products       0.25      0.20      0.22         5\n",
      "                                                  beef tongue       0.00      0.00      0.00         2\n",
      "                                                         beer       1.00      0.75      0.86         4\n",
      "                                                     biscuits       0.40      0.50      0.44         8\n",
      "                                       bitter apricot kernels       0.00      0.00      0.00         1\n",
      "                                                 black pepper       1.00      1.00      1.00         1\n",
      "                                                  blue cheese       1.00      1.00      1.00         1\n",
      "                                             blue poppy seeds       0.00      0.00      0.00         1\n",
      "                                                  blueberries       0.33      1.00      0.50         1\n",
      "                                                         boar       0.00      0.00      0.00         0\n",
      "                                                boneless beef       0.00      0.00      0.00         2\n",
      "                                      bottled flavoured water       0.00      0.00      0.00         1\n",
      "                                        bottled mineral water       0.00      0.00      0.00         0\n",
      "                                bottled natural mineral water       0.00      0.00      0.00         1\n",
      "                                                bottled water       0.17      1.00      0.29         1\n",
      "                                                  brazil nuts       0.00      0.00      0.00         0\n",
      "                                                        bread       0.55      0.75      0.63         8\n",
      "                                  bread and products therefor       0.00      0.00      0.00         2\n",
      "                                            breakfast cereals       0.50      0.50      0.50         4\n",
      "                                               brewer's yeast       0.50      1.00      0.67         1\n",
      "                                                  brie cheese       0.00      0.00      0.00         0\n",
      "                                                     broccoli       1.00      0.75      0.86         4\n",
      "                                                     brownies       0.67      0.67      0.67         3\n",
      "                                                       bulgur       1.00      1.00      1.00         1\n",
      "                                                         buns       0.67      1.00      0.80         2\n",
      "                                       burrito (ready to eat)       1.00      1.00      1.00         1\n",
      "                                                       butter       0.00      0.00      0.00         2\n",
      "                                                      cabbage       0.00      0.00      0.00         1\n",
      "                                              cake decoration       0.00      0.00      0.00         1\n",
      "                                                        cakes       0.79      0.79      0.79        14\n",
      "                                                    camembert       1.00      1.00      1.00         2\n",
      "                                                      candies       0.80      0.50      0.62         8\n",
      "                                                  canned corn       0.00      0.00      0.00         1\n",
      "                                               canned mussels       0.00      0.00      0.00         0\n",
      "                                           cantaloupe (fresh)       0.00      0.00      0.00         0\n",
      "                                       carbonated apple juice       0.00      0.00      0.00         2\n",
      "                                          carbonated beverage       0.50      0.50      0.50         2\n",
      "                                   carbonated/sparkling water       0.00      0.00      0.00         1\n",
      "                           carps, barbels and other cyprinids       0.00      0.00      0.00         0\n",
      "                                                       cashew       1.00      0.67      0.80         3\n",
      "                                                  cauliflower       1.00      1.00      1.00         1\n",
      "                                                 cbd products       1.00      1.00      1.00         1\n",
      "                                                       cereal       0.50      1.00      0.67         1\n",
      "                                                  cereal bars       0.00      0.00      0.00         2\n",
      "                                                 cereal drink       1.00      1.00      1.00         1\n",
      "                                       cereal-based baby food       0.00      0.00      0.00         1\n",
      "                                                      cereals       0.00      0.00      0.00         1\n",
      "                                               cheddar cheese       0.67      1.00      0.80         2\n",
      "                                                       cheese       0.50      0.67      0.57         9\n",
      "                   cheese &amp; onion flavoured potato crisps       0.00      0.00      0.00         1\n",
      "                                   cheese (taleggio capriolo)       0.00      0.00      0.00         1\n",
      "                                              cheese sausages       0.00      0.00      0.00         1\n",
      "                                                     cherries       0.00      0.00      0.00         1\n",
      "                                                   chia seeds       1.00      1.00      1.00         2\n",
      "                                                      chicken       0.20      1.00      0.33         1\n",
      "                             chicken and chicken preparations       0.00      0.00      0.00         1\n",
      "                                       chicken based products       0.63      0.61      0.62        31\n",
      "                                               chicken breast       0.33      0.50      0.40         6\n",
      "                                                 chicken meat       0.00      0.00      0.00         1\n",
      "                                        chicken meat products       1.00      1.00      1.00         1\n",
      "                                          chicken noodle soup       0.50      0.50      0.50         2\n",
      "                                                  chicken pie       1.00      1.00      1.00         1\n",
      "                                         chicken preparations       0.50      0.25      0.33         4\n",
      "                                    chicken products - frozen       0.00      0.00      0.00         1\n",
      "                                               chicken slices       0.00      0.00      0.00         1\n",
      "                                               chicken spices       0.00      0.00      0.00         1\n",
      "                                                    chickpeas       1.00      1.00      1.00         1\n",
      "                                          chilled beef steaks       0.00      0.00      0.00         1\n",
      "                                              chilled chicken       0.00      0.00      0.00         0\n",
      "                          chilled pork meat and pork products       0.00      0.00      0.00         1\n",
      "                                               chilled salads       0.00      0.00      0.00         1\n",
      "                                      chilled smoked sausages       0.00      0.00      0.00         1\n",
      "                                                 chilli paste       1.00      1.00      1.00         1\n",
      "                                                chilli powder       0.00      0.00      0.00         0\n",
      "                                                 chilli sauce       1.00      1.00      1.00         1\n",
      "                                                    chocolate       0.20      0.33      0.25         3\n",
      "                             chocolate and chocolate products       0.00      0.00      0.00         1\n",
      "              chocolate and strawberry flavoured cyclone milk       1.00      1.00      1.00         1\n",
      "                                               chocolate bars       0.78      1.00      0.88         7\n",
      "                                              chocolate chips       0.67      1.00      0.80         2\n",
      "                                               chocolate eggs       1.00      0.50      0.67         2\n",
      "                                           chocolate products       0.00      0.00      0.00         0\n",
      "                                           chocolate truffles       0.00      0.00      0.00         2\n",
      "                                                   chocolates       0.50      0.33      0.40         3\n",
      "                                                      chorizo       1.00      1.00      1.00         1\n",
      "                                              chorizo sausage       1.00      1.00      1.00         1\n",
      "                                                        cider       1.00      1.00      1.00         2\n",
      "                                                        clams       1.00      1.00      1.00         1\n",
      "                                                coconut juice       1.00      1.00      1.00         1\n",
      "                                                 coconut milk       1.00      1.00      1.00         1\n",
      "                                                  coconut oil       1.00      1.00      1.00         1\n",
      "                                                     coconuts       0.60      0.75      0.67         4\n",
      "                                                          cod       0.00      0.00      0.00         2\n",
      "                                                 coffee beans       1.00      0.50      0.67         2\n",
      "                                          concentrated apples       0.00      0.00      0.00         1\n",
      "                                                confectionery       0.00      0.00      0.00         1\n",
      "                                       confectionery products       0.00      0.00      0.00         1\n",
      "                                               cooked chicken       0.00      0.00      0.00         1\n",
      "                                                      cookies       0.71      0.86      0.77        14\n",
      "                                                cooking sauce       0.00      0.00      0.00         1\n",
      "                                                    coriander       0.33      0.50      0.40         2\n",
      "                                                         corn       0.75      1.00      0.86         6\n",
      "                                                  cottage pie       0.00      0.00      0.00         1\n",
      "                                                   courgettes       1.00      1.00      1.00         1\n",
      "                                                        crabs       0.00      0.00      0.00         1\n",
      "                                                     crackers       0.33      1.00      0.50         1\n",
      "                                                 cream cheese       1.00      1.00      1.00         1\n",
      "                                                       crisps       0.00      0.00      0.00         0\n",
      "                                                   croissants       1.00      1.00      1.00         2\n",
      "                                                    cucumbers       0.00      0.00      0.00         1\n",
      "                                                 cumin powder       0.00      0.00      0.00         0\n",
      "                                                  curd cheese       0.00      0.00      0.00         0\n",
      "                                                        curry       0.33      0.33      0.33         3\n",
      "                                                      custard       0.00      0.00      0.00         3\n",
      "                                         custard cream powder       0.00      0.00      0.00         1\n",
      "                                              dark chocolates       0.64      1.00      0.78         7\n",
      "                                                        dates       1.00      1.00      1.00         3\n",
      "                                                     desserts       0.25      0.33      0.29         3\n",
      "                                           dietary supplement       0.67      0.50      0.57         4\n",
      "            dietetic foods, food supplements, fortified foods       0.00      0.00      0.00         0\n",
      "                                                    dip-sauce       0.80      0.80      0.80         5\n",
      "                                                dipping sauce       1.00      1.00      1.00         1\n",
      "                                                     dressing       0.00      0.00      0.00         1\n",
      "                                              dressing sauces       0.00      0.00      0.00         1\n",
      "                                  dried and candied fruit mix       0.00      0.00      0.00         1\n",
      "                                                 dried apples       0.00      0.00      0.00         0\n",
      "                                        dried apricot kernels       0.00      0.00      0.00         1\n",
      "                                               dried apricots       0.00      0.00      0.00         0\n",
      "                                              dried beef meat       0.40      0.67      0.50         3\n",
      "                                            dried cranberries       0.00      0.00      0.00         1\n",
      "           dried herb powder ashwagandha (withania somnifera)       1.00      1.00      1.00         1\n",
      "                                              dried mushrooms       0.00      0.00      0.00         0\n",
      "                                                  dried plums       0.50      1.00      0.67         1\n",
      "                                          dried pork sausages       0.00      0.00      0.00         1\n",
      "                   dried shitake mushrooms (lentinula edodes)       1.00      1.00      1.00         1\n",
      "                                         dried shrimp noodles       1.00      1.00      1.00         1\n",
      "                                    drinking chocolate powder       0.00      0.00      0.00         1\n",
      "                                                      dry ham       0.00      0.00      0.00         1\n",
      "                                                         duck       0.00      0.00      0.00         1\n",
      "                                                    dumplings       0.67      1.00      0.80         2\n",
      "                                                  egg protein       0.00      0.00      0.00         1\n",
      "                                                         eggs       0.73      1.00      0.84         8\n",
      "                                                 energy drink       0.00      0.00      0.00         2\n",
      "                                        essences and extracts       0.00      0.00      0.00         1\n",
      "                                     extra hot chilli peppers       0.00      0.00      0.00         1\n",
      "                                                 fennel seeds       1.00      1.00      1.00         1\n",
      "                                                  feta cheese       1.00      0.71      0.83         7\n",
      "                                       fish and fish products       0.00      0.00      0.00         2\n",
      "                                                fish products       0.00      0.00      0.00         2\n",
      "                                       flavoured potato chips       0.00      0.00      0.00         3\n",
      "                          flavoured whey protein preparations       0.00      0.00      0.00         0\n",
      "                                                     flavours       0.00      0.00      0.00         1\n",
      "                                                        flour       0.50      0.67      0.57         3\n",
      "                                              food supplement       0.00      0.00      0.00         3\n",
      "                                              free range eggs       0.00      0.00      0.00         1\n",
      "                                                 fresh apples       0.00      0.00      0.00         0\n",
      "                                             fresh cantaloupe       0.00      0.00      0.00         1\n",
      "                                                 fresh cheese       0.00      0.00      0.00         0\n",
      "                                              fresh mushrooms       0.67      1.00      0.80         2\n",
      "                                                   fresh pork       0.00      0.00      0.00         0\n",
      "                           fresh processed beef meat products       0.00      0.00      0.00         1\n",
      "                                                fresh spinach       0.00      0.00      0.00         1\n",
      "                                           fresh strawberries       0.00      0.00      0.00         1\n",
      "                                             fresh vegetables       0.00      0.00      0.00         0\n",
      "                                          frozen apple crumbs       0.00      0.00      0.00         1\n",
      "                                             frozen apple pie       0.00      0.00      0.00         1\n",
      "                                                  frozen beef       0.00      0.00      0.00         0\n",
      "                                          frozen beef patties       0.33      0.50      0.40         2\n",
      "                                         frozen beef products       0.00      0.00      0.00         1\n",
      "                                           frozen beef tongue       0.00      0.00      0.00         0\n",
      "                                           frozen breaded cod       0.00      0.00      0.00         1\n",
      "                                              frozen broccoli       1.00      1.00      1.00         1\n",
      "                                               frozen burgers       0.00      0.00      0.00         1\n",
      "                                               frozen chicken       0.00      0.00      0.00         1\n",
      "                                           frozen chicken leg       0.00      0.00      0.00         1\n",
      "                                   frozen dumplings with beef       1.00      1.00      1.00         1\n",
      "                                   frozen dumplings with pork       0.50      1.00      0.67         1\n",
      "                                          frozen fish fillets       0.00      0.00      0.00         0\n",
      "                                         frozen fish products       0.00      0.00      0.00         1\n",
      "                 frozen gluten and wheat free chicken goujons       0.00      0.00      0.00         1\n",
      "                                         frozen mixed berries       0.00      0.00      0.00         1\n",
      "                                                  frozen peas       0.33      1.00      0.50         1\n",
      "                                                   frozen pie       0.00      0.00      0.00         2\n",
      "                                                 frozen pizza       1.00      0.33      0.50         3\n",
      "                                     frozen pork preparations       0.50      1.00      0.67         1\n",
      "                                      frozen poultry products       0.00      0.00      0.00         1\n",
      "                                     frozen precooked mussels       0.00      0.00      0.00         1\n",
      "                                 frozen ready to cook chicken       0.00      0.00      0.00         1\n",
      "                                         frozen sausage rolls       1.00      1.00      1.00         1\n",
      "                                               frozen seafood       0.00      0.00      0.00         1\n",
      "                                          frozen spring rolls       0.00      0.00      0.00         1\n",
      "                          frozen spring rolls with vegetables       0.00      0.00      0.00         1\n",
      "                                            frozen vegetables       0.67      1.00      0.80         2\n",
      "                                        frozen vegetables mix       0.00      0.00      0.00         2\n",
      "                                     frozen vegetarian cutlet       0.00      0.00      0.00         1\n",
      "                                                   fruit bars       0.00      0.00      0.00         2\n",
      "                                                  fruit juice       0.00      0.00      0.00         1\n",
      "                                         fruit juice smoothie       0.00      0.00      0.00         0\n",
      "                                                    fruit mix       0.00      0.00      0.00         0\n",
      "                                                   fruit pies       0.00      0.00      0.00         1\n",
      "                                                 fruit snacks       0.00      0.00      0.00         1\n",
      "                                        fruits and vegetables       0.00      0.00      0.00         1\n",
      "                                                garlic powder       0.50      0.50      0.50         2\n",
      "                               gluten-free barleygrass powder       0.00      0.00      0.00         0\n",
      "                                                  goat cheese       1.00      0.20      0.33         5\n",
      "                                      golden raisins/sultanas       0.80      0.67      0.73         6\n",
      "                                            gorgonzola cheese       1.00      1.00      1.00         1\n",
      "                                                      granola       1.00      1.00      1.00         1\n",
      "                                                    gravy mix       1.00      1.00      1.00         1\n",
      "                                                  green pesto       1.00      0.33      0.50         3\n",
      "                                                green raisins       0.00      0.00      0.00         0\n",
      "                                         grissini breadsticks       1.00      1.00      1.00         1\n",
      "                                               ground almonds       1.00      0.50      0.67         2\n",
      "                                                  ground beef       0.80      0.89      0.84         9\n",
      "                                              halloumi cheese       0.00      0.00      0.00         0\n",
      "                                                        halva       0.00      0.00      0.00         1\n",
      "                                                          ham       0.45      1.00      0.62         5\n",
      "                                                   ham slices       0.00      0.00      0.00         1\n",
      "                                                    hazelnuts       0.00      0.00      0.00         4\n",
      "                                            herbal supplement       0.00      0.00      0.00         1\n",
      "                                                   herbal tea       0.00      0.00      0.00         1\n",
      "                                             herbs and spices       0.00      0.00      0.00         1\n",
      "                                                      herring       0.33      1.00      0.50         1\n",
      "                                                        honey       0.00      0.00      0.00         1\n",
      "                                          horseradish in jars       1.00      1.00      1.00         1\n",
      "                                                       horses       1.00      1.00      1.00         1\n",
      "                                             hot dog sausages       0.50      1.00      0.67         1\n",
      "                                                     hot dogs       0.50      0.50      0.50         2\n",
      "                                                    hot sauce       0.00      0.00      0.00         1\n",
      "                                                      houmous       0.00      0.00      0.00         1\n",
      "                                                    ice cream       0.91      0.95      0.93        41\n",
      "                                               iced fruit tea       0.00      0.00      0.00         1\n",
      "                                                     iced tea       0.00      0.00      0.00         0\n",
      "                                                  infant food       0.00      0.00      0.00         1\n",
      "                                               infant formula       0.75      1.00      0.86         3\n",
      "                                               instant coffee       1.00      1.00      1.00         1\n",
      "                                              instant noodles       0.00      0.00      0.00         0\n",
      "                                                      jellies       0.75      1.00      0.86         6\n",
      "                                               jerky products       0.00      0.00      0.00         1\n",
      "                                                       juices       0.00      0.00      0.00         0\n",
      "                                                         kale       1.00      1.00      1.00         1\n",
      "                                                         lamb       1.00      1.00      1.00         2\n",
      "                                                      lentils       1.00      1.00      1.00         1\n",
      "                                                        limes       0.00      0.00      0.00         1\n",
      "                                                    lollipops       0.00      0.00      0.00         0\n",
      "                                               macadamia nuts       1.00      1.00      1.00         2\n",
      "                                                        maize       1.00      0.50      0.67         2\n",
      "                                                        mango       1.00      1.00      1.00         2\n",
      "                                                    margarine       1.00      0.50      0.67         2\n",
      "                                       marinated chicken meat       0.00      0.00      0.00         1\n",
      "                                                  marshmalows       1.00      1.00      1.00         1\n",
      "                                             masala spice mix       0.00      0.00      0.00         0\n",
      "                                    mashed chickpeas (hummus)       0.80      1.00      0.89         4\n",
      "                  meat and meat products (other than poultry)       0.00      0.00      0.00         1\n",
      "                                            meat preparations       0.00      0.00      0.00         1\n",
      "                                                     meatloaf       1.00      1.00      1.00         1\n",
      "                          mechanically separated chicken meat       1.00      1.00      1.00         1\n",
      "                                                  melon seeds       1.00      1.00      1.00         1\n",
      "                                                       melons       0.00      0.00      0.00         1\n",
      "                                                         milk       0.80      0.80      0.80         5\n",
      "                               milk chocolate covered raisins       0.00      0.00      0.00         2\n",
      "                                              milk chocolates       0.75      0.75      0.75         4\n",
      "                                                  milk powder       1.00      1.00      1.00         1\n",
      "                                                milk products       0.00      0.00      0.00         1\n",
      "                                                milk proteins       0.00      0.00      0.00         2\n",
      "                                              millet porridge       0.00      0.00      0.00         0\n",
      "                                                  minced beef       1.00      1.00      1.00         1\n",
      "                                             minced pork meat       0.00      0.00      0.00         1\n",
      "                                                mineral water       0.00      0.00      0.00         1\n",
      "                                                   mint sauce       0.00      0.00      0.00         1\n",
      "                                  mitragyna speciosa (kratom)       1.00      1.00      1.00         3\n",
      "                                                   mixed nuts       0.00      0.00      0.00         1\n",
      "                                                  mixed salad       0.00      0.00      0.00         2\n",
      "                                             mixed vegetables       0.00      0.00      0.00         1\n",
      "                                              mouth freshener       0.00      0.00      0.00         1\n",
      "                                                       muesli       0.00      0.00      0.00         0\n",
      "                                                      muffins       1.00      0.67      0.80         3\n",
      "                                multi vitamin food supplement       0.00      0.00      0.00         1\n",
      "                                                    mushrooms       1.00      0.50      0.67         2\n",
      "                                                      mussels       0.00      0.00      0.00         0\n",
      "                                                mustard sauce       0.00      0.00      0.00         0\n",
      "                                        natural breakfast bar       0.00      0.00      0.00         1\n",
      "                                        natural mineral water       0.00      0.00      0.00         1\n",
      "                                             natural seed mix       0.00      0.00      0.00         1\n",
      "                                              non diary cream       0.00      0.00      0.00         1\n",
      "                                                       noodle       0.00      0.00      0.00         3\n",
      "                                                      noodles       1.00      0.75      0.86         4\n",
      "                                        nut and fruit mixture       0.00      0.00      0.00         1\n",
      "                                                      nut mix       0.00      0.00      0.00         1\n",
      "                                        nut snack (chanachur)       0.00      0.00      0.00         1\n",
      "                                              nutrition shake       0.00      0.00      0.00         1\n",
      "                                                         nuts       0.00      0.00      0.00         2\n",
      "                                 nuts, nut products and seeds       0.00      0.00      0.00         1\n",
      "                                                         oats       0.33      1.00      0.50         1\n",
      "                                                    olive oil       0.50      1.00      0.67         1\n",
      "                                                       olives       0.75      1.00      0.86         3\n",
      "                                                       onions       0.50      0.50      0.50         2\n",
      "                                                 orange juice       0.00      0.00      0.00         1\n",
      "                                      organic porridge flakes       0.00      0.00      0.00         1\n",
      "                                         other dairy products       1.00      1.00      1.00         2\n",
      "                         other food additives and flavourings       0.00      0.00      0.00         1\n",
      "                           other not classified meat products       0.53      0.64      0.58        14\n",
      "                                          other types of meat       1.00      0.25      0.40         4\n",
      "                                                      oysters       1.00      1.00      1.00         4\n",
      "                                                     palm oil       1.00      1.00      1.00         2\n",
      "                                                     pancakes       0.00      0.00      0.00         1\n",
      "                                                        pasta       0.00      0.00      0.00         1\n",
      "                                                  pasta salad       1.00      1.00      1.00         1\n",
      "                                                  pasta sauce       1.00      0.67      0.80         3\n",
      "                                             pasteurized milk       0.00      0.00      0.00         0\n",
      "                                                       pastry       0.00      0.00      0.00         1\n",
      "                                              pastry products       0.00      0.00      0.00         0\n",
      "                                                   pea shoots       1.00      1.00      1.00         1\n",
      "                                                      peanuts       0.62      1.00      0.76         8\n",
      "                                                   pecan nuts       0.00      0.00      0.00         1\n",
      "                                                    pepperoni       1.00      1.00      1.00         1\n",
      "                                                        pesto       0.00      0.00      0.00         0\n",
      "                                                     pet feed       1.00      1.00      1.00         2\n",
      "                                                      pickles       0.00      0.00      0.00         1\n",
      "                              pickles (vegetables and fruits)       0.00      0.00      0.00         1\n",
      "                                              pig meat - pork       0.11      0.33      0.17         3\n",
      "                                                       pigeon       0.00      0.00      0.00         1\n",
      "                                                   pineapples       0.00      0.00      0.00         1\n",
      "                                               pistachio nuts       0.88      1.00      0.93         7\n",
      "                                                        pizza       0.00      0.00      0.00         0\n",
      "                                                     plastics       0.00      0.00      0.00         0\n",
      "                              plum bread &amp; butter pudding       0.00      0.00      0.00         1\n",
      "                                                        poppy       0.50      1.00      0.67         1\n",
      "                                             pork preparation       1.00      0.12      0.22         8\n",
      "                                                 pork sausage       0.33      1.00      0.50         6\n",
      "                                                pork shoulder       0.00      0.00      0.00         1\n",
      "                                             pork tenderloins       0.00      0.00      0.00         1\n",
      "                                                     porridge       0.00      0.00      0.00         1\n",
      "                                                 potato chips       0.60      0.75      0.67         8\n",
      "                                            potato croquettes       1.00      1.00      1.00         1\n",
      "                                                 potato salad       1.00      1.00      1.00         2\n",
      "                                                 potato snack       0.00      0.00      0.00         2\n",
      "                                                     potatoes       0.25      1.00      0.40         1\n",
      "                                                      poultry       0.00      0.00      0.00         1\n",
      "                       poultry meat and poultry meat products       0.00      0.00      0.00         1\n",
      "                                                       prawns       0.75      1.00      0.86         3\n",
      "                          precooked cooked beef meat products       0.00      0.00      0.00         0\n",
      "                                                prepared dish       0.00      0.00      0.00         2\n",
      "                                              prepared dishes       0.00      0.00      0.00         1\n",
      "                                   prepared dishes and snacks       0.00      0.00      0.00         1\n",
      "                                              prepared salads       0.25      0.50      0.33         2\n",
      "                                                pretzel stick       0.50      1.00      0.67         1\n",
      "                                                     pretzels       0.00      0.00      0.00         1\n",
      "                                    probiotic food supplement       0.00      0.00      0.00         0\n",
      "                           probiotics for babies and children       0.00      0.00      0.00         1\n",
      "                                                protein balls       1.00      1.00      1.00         1\n",
      "                                                  protein bar       0.80      1.00      0.89         4\n",
      "                                                protein drink       0.00      0.00      0.00         0\n",
      "                                               protein powder       0.00      0.00      0.00         1\n",
      "                                                      pudding       0.00      0.00      0.00         0\n",
      "                                                         pâté       1.00      1.00      1.00         1\n",
      "                                            quorn preparation       0.00      0.00      0.00         1\n",
      "                                                      raisins       0.00      0.00      0.00         0\n",
      "                                                      ravioli       1.00      0.75      0.86         4\n",
      "                                                raw beef meat       0.86      1.00      0.92         6\n",
      "                                         raw goat milk cheese       0.00      0.00      0.00         0\n",
      "                                                     raw milk       1.00      1.00      1.00         1\n",
      "                                    raw milk cheese reblochon       0.00      0.00      0.00         1\n",
      "                 raw pork meat and raw pork meat preparations       0.00      0.00      0.00         1\n",
      "                                                  raw sausage       0.00      0.00      0.00         1\n",
      "                                    ready to eat - cook meals       0.29      0.32      0.30        19\n",
      "                                    ready to eat meat product       0.00      0.00      0.00         1\n",
      "                                                         rice       0.00      0.00      0.00         1\n",
      "                                                   rice cakes       0.50      1.00      0.67         1\n",
      "                                     rice cereal for children       0.00      0.00      0.00         1\n",
      "                                                rice crackers       0.33      1.00      0.50         1\n",
      "                                                    rice meal       0.00      0.00      0.00         1\n",
      "                                             rice preparation       0.00      0.00      0.00         1\n",
      "                                                  rice sticks       0.00      0.00      0.00         1\n",
      "                                               ricotta cheese       0.00      0.00      0.00         1\n",
      "                                                     rosemary       0.00      0.00      0.00         1\n",
      "                                                  royal jelly       0.00      0.00      0.00         1\n",
      "                                                    rye bread       0.00      0.00      0.00         1\n",
      "                                               salad dressing       0.00      0.00      0.00         4\n",
      "                                                       salads       0.60      0.67      0.63         9\n",
      "                                                       salami       0.50      1.00      0.67         1\n",
      "                                                       salmon       1.00      0.91      0.95        11\n",
      "                                                         salt       0.50      1.00      0.67         1\n",
      "                             salt &amp; vinegar protein puffs       0.00      0.00      0.00         1\n",
      "                                             sandwich filling       0.00      0.00      0.00         1\n",
      "                                                   sandwiches       0.89      1.00      0.94         8\n",
      "                                                     sardines       1.00      1.00      1.00         1\n",
      "                                                  satay sauce       0.00      0.00      0.00         1\n",
      "                                                        sauce       0.14      0.33      0.20         3\n",
      "                                                       sauces       0.00      0.00      0.00         3\n",
      "                                                        saury       0.00      0.00      0.00         1\n",
      "                                                      sausage       0.20      0.25      0.22         4\n",
      "                                sausage (mettwurst in german)       0.00      0.00      0.00         1\n",
      "                                             sausage products       0.60      0.75      0.67         4\n",
      "                                                      seafood       0.00      0.00      0.00         2\n",
      "                                             seafood products       0.00      0.00      0.00         1\n",
      "                                                    seasoning       0.33      1.00      0.50         1\n",
      "                                             seasoning blends       0.00      0.00      0.00         1\n",
      "                                                seasoning mix       0.00      0.00      0.00         1\n",
      "                                             semi-soft cheese       0.00      0.00      0.00         0\n",
      "                                                       sesame       0.50      1.00      0.67         1\n",
      "                                                 sesame seeds       1.00      1.00      1.00         2\n",
      "                                                      shrimps       0.80      0.80      0.80         5\n",
      "                                                   sliced ham       1.00      0.50      0.67         2\n",
      "                                             sliced mushrooms       0.00      0.00      0.00         1\n",
      "                                               smoked sausage       0.00      0.00      0.00         3\n",
      "                                                     smoothie       0.00      0.00      0.00         1\n",
      "                                               snack crackers       0.00      0.00      0.00         0\n",
      "                                                    snack mix       0.38      0.75      0.50         4\n",
      "                                             snacks (various)       0.00      0.00      0.00         5\n",
      "                                          soft ripened cheese       1.00      1.00      1.00         1\n",
      "                                                      sorbets       0.00      0.00      0.00         1\n",
      "                                                         soup       0.85      0.92      0.88        12\n",
      "                                                    soy sauce       0.50      1.00      0.67         1\n",
      "                                                      soybean       1.00      0.50      0.67         2\n",
      "                                                    spice mix       0.33      1.00      0.50         1\n",
      "                                                       spices       0.00      0.00      0.00         1\n",
      "                                                      spinach       0.00      0.00      0.00         2\n",
      "                                                       spread       0.50      1.00      0.67         1\n",
      "                                                      spreads       0.00      0.00      0.00         1\n",
      "                                                 spring rolls       0.00      0.00      0.00         0\n",
      "                                                 spring water       0.00      0.00      0.00         1\n",
      "                                                    sprinkles       0.00      0.00      0.00         1\n",
      "                                                      sprouts       0.50      1.00      0.67         1\n",
      "                                                        squid       0.00      0.00      0.00         1\n",
      "                                                       starch       1.00      1.00      1.00         1\n",
      "                                                        sugar       1.00      1.00      1.00         1\n",
      "                                              sugar snap peas       0.00      0.00      0.00         1\n",
      "                                                     sultanas       0.00      0.00      0.00         1\n",
      "                                           sun dried apricots       0.00      0.00      0.00         1\n",
      "                                               sunflower seed       0.38      0.75      0.50         4\n",
      "                                           sweet potato snack       0.00      0.00      0.00         1\n",
      "                                                   sweeteners       1.00      1.00      1.00         1\n",
      "                                                       sweets       0.33      0.50      0.40         2\n",
      "                                                       tahini       0.33      0.50      0.40         2\n",
      "                                        tahini (sesame paste)       0.00      0.00      0.00         0\n",
      "                                                tapioca chips       0.00      0.00      0.00         0\n",
      "                                                          tea       0.40      1.00      0.57         2\n",
      "                                         testosterone booster       0.00      0.00      0.00         1\n",
      "                                  thermal processed beef meat       0.50      1.00      0.67         4\n",
      "                                  thermal processed pork meat       0.36      0.36      0.36        11\n",
      "                                                      tilapia       1.00      1.00      1.00         1\n",
      "                                                         tofu       0.00      0.00      0.00         3\n",
      "                                                tofu basilico       0.00      0.00      0.00         1\n",
      "                                                 tomato sauce       0.00      0.00      0.00         1\n",
      "                                                     tomatoes       0.00      0.00      0.00         1\n",
      "                                                     tortilla       0.00      0.00      0.00         0\n",
      "                                               tortilla chips       1.00      1.00      1.00         2\n",
      "                                                       trouts       1.00      1.00      1.00         1\n",
      "                                                         tuna       1.00      1.00      1.00         3\n",
      "                              turbot flatfish (psetta maxima)       1.00      1.00      1.00         1\n",
      "                                                       turkey       0.00      0.00      0.00         1\n",
      "                               turkey and turkey preparations       0.62      0.71      0.67         7\n",
      "                                        turkey based products       1.00      0.50      0.67         4\n",
      "                                      various bakery products       0.00      0.00      0.00         1\n",
      "                                        various beef products       0.00      0.00      0.00         1\n",
      "                      various chilled or frozen pork products       0.00      0.00      0.00         1\n",
      "                                        various meat products       0.00      0.00      0.00         1\n",
      "                                                         veal       0.00      0.00      0.00         0\n",
      "                                         veal meat and offals       1.00      1.00      1.00         1\n",
      "                                               vegan sausages       0.00      0.00      0.00         0\n",
      "                                     vegetable based products       0.00      0.00      0.00         2\n",
      "                                             vegetable burger       0.00      0.00      0.00         1\n",
      "                                 vegetable ready to eat meals       0.00      0.00      0.00         1\n",
      "                                            vegetable samosas       0.00      0.00      0.00         0\n",
      "                                                   vegetables       0.00      0.00      0.00         1\n",
      "                                               venison salami       0.00      0.00      0.00         1\n",
      "                                                     vitamins       0.00      0.00      0.00         1\n",
      "                                          vitamins supplement       0.00      0.00      0.00         0\n",
      "                                                        vodka       1.00      1.00      1.00         1\n",
      "                                                       wafers       0.33      1.00      0.50         1\n",
      "                                                      waffles       0.00      0.00      0.00         1\n",
      "                                                      walnuts       0.17      1.00      0.29         1\n",
      "                                                  wasabi peas       0.00      0.00      0.00         1\n",
      "                                              white chocolate       0.00      0.00      0.00         1\n",
      "                                                         wine       1.00      1.00      1.00         9\n",
      "                                                        wraps       1.00      0.75      0.86         4\n",
      "                                                 yeast powder       0.00      0.00      0.00         1\n",
      "                                                      yoghurt       1.00      1.00      1.00         7\n",
      "yoghurt-like soya-based products containing bacteria cultures       0.00      0.00      0.00         1\n",
      "                                               yogurt raisins       1.00      1.00      1.00         2\n",
      "\n",
      "                                                     accuracy                           0.55       997\n",
      "                                                    macro avg       0.32      0.36      0.32       997\n",
      "                                                 weighted avg       0.52      0.55      0.51       997\n",
      "\n"
     ]
    }
   ],
   "source": [
    "model_product.eval()\n",
    "total_predictions = []\n",
    "with torch.no_grad():\n",
    "    for batch in dev_dataloader:\n",
    "        batch = {k: v.to('cuda') for k, v in batch.items()}\n",
    "        outputs = model_product(**batch)\n",
    "        predictions = torch.argmax(outputs.logits, dim=-1)\n",
    "        total_predictions.extend([p.item() for p in predictions])\n",
    "\n",
    "predicted_labels = le_product.inverse_transform(total_predictions)\n",
    "gold_labels = le_product.inverse_transform(dev_df.label.values)\n",
    "print(classification_report(gold_labels, predicted_labels, zero_division=0))\n",
    "\n",
    "dev_df['predictions-product'] = predicted_labels"
   ]
  },
  {
   "cell_type": "markdown",
   "metadata": {},
   "source": [
    "### Evaluate Sub-Task 2"
   ]
  },
  {
   "cell_type": "code",
   "execution_count": 34,
   "metadata": {},
   "outputs": [
    {
     "name": "stdout",
     "output_type": "stream",
     "text": [
      "Score Sub-Task 2: 0.499\n"
     ]
    }
   ],
   "source": [
    "score = compute_score(\n",
    "    dev_df['hazard'], dev_df['product'],\n",
    "    dev_df['predictions-hazard'], dev_df['predictions-product']\n",
    ")\n",
    "print(f\"Score Sub-Task 2: {score:.3f}\")"
   ]
  },
  {
   "cell_type": "markdown",
   "metadata": {},
   "source": [
    "## Create submission file"
   ]
  },
  {
   "cell_type": "code",
   "execution_count": 35,
   "metadata": {},
   "outputs": [],
   "source": [
    "dev_df.to_csv(\"submission.csv\", index=True)"
   ]
  },
  {
   "cell_type": "markdown",
   "metadata": {},
   "source": [
    "# Summary"
   ]
  },
  {
   "cell_type": "markdown",
   "metadata": {},
   "source": [
    "- Used all availiable datasets (train and valid)\n",
    "- Used **roberta-large** for all 4 labels\n",
    "- Tokenized with padding, truncation and max_length 256\n",
    "- Used *oversampling* technique for all labels, except for the hazard-category, because the classes were well distributed\n",
    "- Fined-tuned all models by altering:\n",
    "  * Epochs\n",
    "  * Learning Rate\n",
    "  * Weight Decay\n",
    "  * FP16 Precision\n",
    "  * Warmup Steps\n",
    "  * Oversampling effect (alpha variable in my code)\n",
    "- Calculated evaluation scores using the test data\n",
    "- Created submission.csv with all model outputs for the test data\n",
    "\n",
    "ST1 score: **``0.779``**\n",
    "\n",
    "ST2 score: **``0.499``**"
   ]
  },
  {
   "cell_type": "code",
   "execution_count": null,
   "metadata": {},
   "outputs": [],
   "source": []
  }
 ],
 "metadata": {
  "kernelspec": {
   "display_name": "Python 3",
   "language": "python",
   "name": "python3"
  },
  "language_info": {
   "codemirror_mode": {
    "name": "ipython",
    "version": 3
   },
   "file_extension": ".py",
   "mimetype": "text/x-python",
   "name": "python",
   "nbconvert_exporter": "python",
   "pygments_lexer": "ipython3",
   "version": "3.12.3"
  }
 },
 "nbformat": 4,
 "nbformat_minor": 4
}
